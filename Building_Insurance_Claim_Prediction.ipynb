{
 "cells": [
  {
   "cell_type": "markdown",
   "id": "2b892874",
   "metadata": {},
   "source": [
    "#                                 Insurance Claim Prediction"
   ]
  },
  {
   "cell_type": "markdown",
   "id": "187e32d1",
   "metadata": {},
   "source": [
    "### Import libraries"
   ]
  },
  {
   "cell_type": "code",
   "execution_count": 1,
   "id": "94c62d4d",
   "metadata": {},
   "outputs": [],
   "source": [
    "import numpy as np\n",
    "import pandas as pd\n",
    "import matplotlib.pyplot as plt\n",
    "import seaborn as sns\n",
    "\n",
    "import warnings\n",
    "warnings.filterwarnings('ignore')"
   ]
  },
  {
   "cell_type": "markdown",
   "id": "878a4abf",
   "metadata": {},
   "source": [
    "### Reading the dataset"
   ]
  },
  {
   "cell_type": "code",
   "execution_count": 2,
   "id": "c9fcea16",
   "metadata": {},
   "outputs": [
    {
     "data": {
      "text/html": [
       "<div>\n",
       "<style scoped>\n",
       "    .dataframe tbody tr th:only-of-type {\n",
       "        vertical-align: middle;\n",
       "    }\n",
       "\n",
       "    .dataframe tbody tr th {\n",
       "        vertical-align: top;\n",
       "    }\n",
       "\n",
       "    .dataframe thead th {\n",
       "        text-align: right;\n",
       "    }\n",
       "</style>\n",
       "<table border=\"1\" class=\"dataframe\">\n",
       "  <thead>\n",
       "    <tr style=\"text-align: right;\">\n",
       "      <th></th>\n",
       "      <th>Customer Id</th>\n",
       "      <th>YearOfObservation</th>\n",
       "      <th>Insured_Period</th>\n",
       "      <th>Residential</th>\n",
       "      <th>Building_Painted</th>\n",
       "      <th>Building_Fenced</th>\n",
       "      <th>Garden</th>\n",
       "      <th>Settlement</th>\n",
       "      <th>Building Dimension</th>\n",
       "      <th>Building_Type</th>\n",
       "      <th>Date_of_Occupancy</th>\n",
       "      <th>NumberOfWindows</th>\n",
       "      <th>Geo_Code</th>\n",
       "      <th>Claim</th>\n",
       "    </tr>\n",
       "  </thead>\n",
       "  <tbody>\n",
       "    <tr>\n",
       "      <th>0</th>\n",
       "      <td>H14663</td>\n",
       "      <td>2013</td>\n",
       "      <td>1.0</td>\n",
       "      <td>0</td>\n",
       "      <td>N</td>\n",
       "      <td>V</td>\n",
       "      <td>V</td>\n",
       "      <td>U</td>\n",
       "      <td>290.0</td>\n",
       "      <td>1</td>\n",
       "      <td>1960.0</td>\n",
       "      <td>.</td>\n",
       "      <td>1053</td>\n",
       "      <td>0</td>\n",
       "    </tr>\n",
       "    <tr>\n",
       "      <th>1</th>\n",
       "      <td>H2037</td>\n",
       "      <td>2015</td>\n",
       "      <td>1.0</td>\n",
       "      <td>0</td>\n",
       "      <td>V</td>\n",
       "      <td>N</td>\n",
       "      <td>O</td>\n",
       "      <td>R</td>\n",
       "      <td>490.0</td>\n",
       "      <td>1</td>\n",
       "      <td>1850.0</td>\n",
       "      <td>4</td>\n",
       "      <td>1053</td>\n",
       "      <td>0</td>\n",
       "    </tr>\n",
       "    <tr>\n",
       "      <th>2</th>\n",
       "      <td>H3802</td>\n",
       "      <td>2014</td>\n",
       "      <td>1.0</td>\n",
       "      <td>0</td>\n",
       "      <td>N</td>\n",
       "      <td>V</td>\n",
       "      <td>V</td>\n",
       "      <td>U</td>\n",
       "      <td>595.0</td>\n",
       "      <td>1</td>\n",
       "      <td>1960.0</td>\n",
       "      <td>.</td>\n",
       "      <td>1053</td>\n",
       "      <td>0</td>\n",
       "    </tr>\n",
       "    <tr>\n",
       "      <th>3</th>\n",
       "      <td>H3834</td>\n",
       "      <td>2013</td>\n",
       "      <td>1.0</td>\n",
       "      <td>0</td>\n",
       "      <td>V</td>\n",
       "      <td>V</td>\n",
       "      <td>V</td>\n",
       "      <td>U</td>\n",
       "      <td>2840.0</td>\n",
       "      <td>1</td>\n",
       "      <td>1960.0</td>\n",
       "      <td>.</td>\n",
       "      <td>1053</td>\n",
       "      <td>0</td>\n",
       "    </tr>\n",
       "    <tr>\n",
       "      <th>4</th>\n",
       "      <td>H5053</td>\n",
       "      <td>2014</td>\n",
       "      <td>1.0</td>\n",
       "      <td>0</td>\n",
       "      <td>V</td>\n",
       "      <td>N</td>\n",
       "      <td>O</td>\n",
       "      <td>R</td>\n",
       "      <td>680.0</td>\n",
       "      <td>1</td>\n",
       "      <td>1800.0</td>\n",
       "      <td>3</td>\n",
       "      <td>1053</td>\n",
       "      <td>0</td>\n",
       "    </tr>\n",
       "  </tbody>\n",
       "</table>\n",
       "</div>"
      ],
      "text/plain": [
       "  Customer Id  YearOfObservation  Insured_Period  Residential  \\\n",
       "0      H14663               2013             1.0            0   \n",
       "1       H2037               2015             1.0            0   \n",
       "2       H3802               2014             1.0            0   \n",
       "3       H3834               2013             1.0            0   \n",
       "4       H5053               2014             1.0            0   \n",
       "\n",
       "  Building_Painted Building_Fenced Garden Settlement  Building Dimension  \\\n",
       "0                N               V      V          U               290.0   \n",
       "1                V               N      O          R               490.0   \n",
       "2                N               V      V          U               595.0   \n",
       "3                V               V      V          U              2840.0   \n",
       "4                V               N      O          R               680.0   \n",
       "\n",
       "   Building_Type  Date_of_Occupancy NumberOfWindows Geo_Code  Claim  \n",
       "0              1             1960.0               .     1053      0  \n",
       "1              1             1850.0               4     1053      0  \n",
       "2              1             1960.0               .     1053      0  \n",
       "3              1             1960.0               .     1053      0  \n",
       "4              1             1800.0               3     1053      0  "
      ]
     },
     "execution_count": 2,
     "metadata": {},
     "output_type": "execute_result"
    }
   ],
   "source": [
    "#Train Dataset\n",
    "df = pd.read_csv('E:\\\\5_New_Job\\\\Insurance_Claim_prediction\\\\train_data.csv') # After read data from git hub, To save the data frame in PC\n",
    "df.drop(df.columns[0], axis=1, inplace=True)\n",
    "df_train = df\n",
    "df_train.head()"
   ]
  },
  {
   "cell_type": "code",
   "execution_count": 3,
   "id": "73cefa42",
   "metadata": {},
   "outputs": [
    {
     "data": {
      "text/html": [
       "<div>\n",
       "<style scoped>\n",
       "    .dataframe tbody tr th:only-of-type {\n",
       "        vertical-align: middle;\n",
       "    }\n",
       "\n",
       "    .dataframe tbody tr th {\n",
       "        vertical-align: top;\n",
       "    }\n",
       "\n",
       "    .dataframe thead th {\n",
       "        text-align: right;\n",
       "    }\n",
       "</style>\n",
       "<table border=\"1\" class=\"dataframe\">\n",
       "  <thead>\n",
       "    <tr style=\"text-align: right;\">\n",
       "      <th></th>\n",
       "      <th>Customer Id</th>\n",
       "      <th>YearOfObservation</th>\n",
       "      <th>Insured_Period</th>\n",
       "      <th>Residential</th>\n",
       "      <th>Building_Painted</th>\n",
       "      <th>Building_Fenced</th>\n",
       "      <th>Garden</th>\n",
       "      <th>Settlement</th>\n",
       "      <th>Building Dimension</th>\n",
       "      <th>Building_Type</th>\n",
       "      <th>Date_of_Occupancy</th>\n",
       "      <th>NumberOfWindows</th>\n",
       "      <th>Geo_Code</th>\n",
       "    </tr>\n",
       "  </thead>\n",
       "  <tbody>\n",
       "    <tr>\n",
       "      <th>0</th>\n",
       "      <td>H11920</td>\n",
       "      <td>2013</td>\n",
       "      <td>1.000000</td>\n",
       "      <td>0</td>\n",
       "      <td>V</td>\n",
       "      <td>N</td>\n",
       "      <td>O</td>\n",
       "      <td>R</td>\n",
       "      <td>300.0</td>\n",
       "      <td>1</td>\n",
       "      <td>1960.0</td>\n",
       "      <td>3</td>\n",
       "      <td>3310</td>\n",
       "    </tr>\n",
       "    <tr>\n",
       "      <th>1</th>\n",
       "      <td>H11921</td>\n",
       "      <td>2016</td>\n",
       "      <td>0.997268</td>\n",
       "      <td>0</td>\n",
       "      <td>V</td>\n",
       "      <td>N</td>\n",
       "      <td>O</td>\n",
       "      <td>R</td>\n",
       "      <td>300.0</td>\n",
       "      <td>1</td>\n",
       "      <td>1960.0</td>\n",
       "      <td>3</td>\n",
       "      <td>3310</td>\n",
       "    </tr>\n",
       "    <tr>\n",
       "      <th>2</th>\n",
       "      <td>H9805</td>\n",
       "      <td>2013</td>\n",
       "      <td>0.369863</td>\n",
       "      <td>0</td>\n",
       "      <td>V</td>\n",
       "      <td>V</td>\n",
       "      <td>V</td>\n",
       "      <td>U</td>\n",
       "      <td>790.0</td>\n",
       "      <td>1</td>\n",
       "      <td>1960.0</td>\n",
       "      <td>.</td>\n",
       "      <td>3310</td>\n",
       "    </tr>\n",
       "    <tr>\n",
       "      <th>3</th>\n",
       "      <td>H7493</td>\n",
       "      <td>2014</td>\n",
       "      <td>1.000000</td>\n",
       "      <td>0</td>\n",
       "      <td>V</td>\n",
       "      <td>N</td>\n",
       "      <td>O</td>\n",
       "      <td>R</td>\n",
       "      <td>1405.0</td>\n",
       "      <td>1</td>\n",
       "      <td>2004.0</td>\n",
       "      <td>3</td>\n",
       "      <td>3321</td>\n",
       "    </tr>\n",
       "    <tr>\n",
       "      <th>4</th>\n",
       "      <td>H7494</td>\n",
       "      <td>2016</td>\n",
       "      <td>1.000000</td>\n",
       "      <td>0</td>\n",
       "      <td>V</td>\n",
       "      <td>N</td>\n",
       "      <td>O</td>\n",
       "      <td>R</td>\n",
       "      <td>1405.0</td>\n",
       "      <td>1</td>\n",
       "      <td>2004.0</td>\n",
       "      <td>3</td>\n",
       "      <td>3321</td>\n",
       "    </tr>\n",
       "  </tbody>\n",
       "</table>\n",
       "</div>"
      ],
      "text/plain": [
       "  Customer Id  YearOfObservation  Insured_Period  Residential  \\\n",
       "0      H11920               2013        1.000000            0   \n",
       "1      H11921               2016        0.997268            0   \n",
       "2       H9805               2013        0.369863            0   \n",
       "3       H7493               2014        1.000000            0   \n",
       "4       H7494               2016        1.000000            0   \n",
       "\n",
       "  Building_Painted Building_Fenced Garden Settlement  Building Dimension  \\\n",
       "0                V               N      O          R               300.0   \n",
       "1                V               N      O          R               300.0   \n",
       "2                V               V      V          U               790.0   \n",
       "3                V               N      O          R              1405.0   \n",
       "4                V               N      O          R              1405.0   \n",
       "\n",
       "   Building_Type  Date_of_Occupancy NumberOfWindows Geo_Code  \n",
       "0              1             1960.0               3     3310  \n",
       "1              1             1960.0               3     3310  \n",
       "2              1             1960.0               .     3310  \n",
       "3              1             2004.0               3     3321  \n",
       "4              1             2004.0               3     3321  "
      ]
     },
     "execution_count": 3,
     "metadata": {},
     "output_type": "execute_result"
    }
   ],
   "source": [
    "#Test Dataset\n",
    "df1 = pd.read_csv(\"E:\\\\5_New_Job\\\\Insurance_Claim_prediction\\\\test_data.csv\")\n",
    "df1.drop(df1.columns[0], axis=1, inplace=True)\n",
    "df_test = df1\n",
    "df_test.head()"
   ]
  },
  {
   "cell_type": "markdown",
   "id": "fe7fe017",
   "metadata": {},
   "source": [
    "###  Data Analysis"
   ]
  },
  {
   "cell_type": "code",
   "execution_count": 4,
   "id": "0e20bf4c",
   "metadata": {},
   "outputs": [
    {
     "data": {
      "text/plain": [
       "(7160, 14)"
      ]
     },
     "execution_count": 4,
     "metadata": {},
     "output_type": "execute_result"
    }
   ],
   "source": [
    "#Dataset Dimension\n",
    "df_train.shape"
   ]
  },
  {
   "cell_type": "code",
   "execution_count": 5,
   "id": "9e8064e1",
   "metadata": {},
   "outputs": [
    {
     "data": {
      "text/plain": [
       "(3069, 13)"
      ]
     },
     "execution_count": 5,
     "metadata": {},
     "output_type": "execute_result"
    }
   ],
   "source": [
    "df_test.shape"
   ]
  },
  {
   "cell_type": "code",
   "execution_count": 6,
   "id": "59536bf8",
   "metadata": {},
   "outputs": [
    {
     "name": "stdout",
     "output_type": "stream",
     "text": [
      "<class 'pandas.core.frame.DataFrame'>\n",
      "RangeIndex: 7160 entries, 0 to 7159\n",
      "Data columns (total 14 columns):\n",
      " #   Column              Non-Null Count  Dtype  \n",
      "---  ------              --------------  -----  \n",
      " 0   Customer Id         7160 non-null   object \n",
      " 1   YearOfObservation   7160 non-null   int64  \n",
      " 2   Insured_Period      7160 non-null   float64\n",
      " 3   Residential         7160 non-null   int64  \n",
      " 4   Building_Painted    7160 non-null   object \n",
      " 5   Building_Fenced     7160 non-null   object \n",
      " 6   Garden              7153 non-null   object \n",
      " 7   Settlement          7160 non-null   object \n",
      " 8   Building Dimension  7054 non-null   float64\n",
      " 9   Building_Type       7160 non-null   int64  \n",
      " 10  Date_of_Occupancy   6652 non-null   float64\n",
      " 11  NumberOfWindows     7160 non-null   object \n",
      " 12  Geo_Code            7058 non-null   object \n",
      " 13  Claim               7160 non-null   int64  \n",
      "dtypes: float64(3), int64(4), object(7)\n",
      "memory usage: 783.2+ KB\n"
     ]
    }
   ],
   "source": [
    "df_train.info()"
   ]
  },
  {
   "cell_type": "markdown",
   "id": "97965512",
   "metadata": {},
   "source": [
    "#### Missing values"
   ]
  },
  {
   "cell_type": "code",
   "execution_count": 7,
   "id": "03b4c571",
   "metadata": {},
   "outputs": [
    {
     "data": {
      "text/html": [
       "<div>\n",
       "<style scoped>\n",
       "    .dataframe tbody tr th:only-of-type {\n",
       "        vertical-align: middle;\n",
       "    }\n",
       "\n",
       "    .dataframe tbody tr th {\n",
       "        vertical-align: top;\n",
       "    }\n",
       "\n",
       "    .dataframe thead th {\n",
       "        text-align: right;\n",
       "    }\n",
       "</style>\n",
       "<table border=\"1\" class=\"dataframe\">\n",
       "  <thead>\n",
       "    <tr style=\"text-align: right;\">\n",
       "      <th></th>\n",
       "      <th>Total</th>\n",
       "      <th>Percentage of Missing Values</th>\n",
       "    </tr>\n",
       "  </thead>\n",
       "  <tbody>\n",
       "    <tr>\n",
       "      <th>Date_of_Occupancy</th>\n",
       "      <td>508</td>\n",
       "      <td>7.094972</td>\n",
       "    </tr>\n",
       "    <tr>\n",
       "      <th>Building Dimension</th>\n",
       "      <td>106</td>\n",
       "      <td>1.480447</td>\n",
       "    </tr>\n",
       "    <tr>\n",
       "      <th>Geo_Code</th>\n",
       "      <td>102</td>\n",
       "      <td>1.424581</td>\n",
       "    </tr>\n",
       "    <tr>\n",
       "      <th>Garden</th>\n",
       "      <td>7</td>\n",
       "      <td>0.097765</td>\n",
       "    </tr>\n",
       "    <tr>\n",
       "      <th>Customer Id</th>\n",
       "      <td>0</td>\n",
       "      <td>0.000000</td>\n",
       "    </tr>\n",
       "    <tr>\n",
       "      <th>YearOfObservation</th>\n",
       "      <td>0</td>\n",
       "      <td>0.000000</td>\n",
       "    </tr>\n",
       "    <tr>\n",
       "      <th>Insured_Period</th>\n",
       "      <td>0</td>\n",
       "      <td>0.000000</td>\n",
       "    </tr>\n",
       "    <tr>\n",
       "      <th>Residential</th>\n",
       "      <td>0</td>\n",
       "      <td>0.000000</td>\n",
       "    </tr>\n",
       "    <tr>\n",
       "      <th>Building_Painted</th>\n",
       "      <td>0</td>\n",
       "      <td>0.000000</td>\n",
       "    </tr>\n",
       "    <tr>\n",
       "      <th>Building_Fenced</th>\n",
       "      <td>0</td>\n",
       "      <td>0.000000</td>\n",
       "    </tr>\n",
       "    <tr>\n",
       "      <th>Settlement</th>\n",
       "      <td>0</td>\n",
       "      <td>0.000000</td>\n",
       "    </tr>\n",
       "    <tr>\n",
       "      <th>Building_Type</th>\n",
       "      <td>0</td>\n",
       "      <td>0.000000</td>\n",
       "    </tr>\n",
       "    <tr>\n",
       "      <th>NumberOfWindows</th>\n",
       "      <td>0</td>\n",
       "      <td>0.000000</td>\n",
       "    </tr>\n",
       "    <tr>\n",
       "      <th>Claim</th>\n",
       "      <td>0</td>\n",
       "      <td>0.000000</td>\n",
       "    </tr>\n",
       "  </tbody>\n",
       "</table>\n",
       "</div>"
      ],
      "text/plain": [
       "                    Total  Percentage of Missing Values\n",
       "Date_of_Occupancy     508                      7.094972\n",
       "Building Dimension    106                      1.480447\n",
       "Geo_Code              102                      1.424581\n",
       "Garden                  7                      0.097765\n",
       "Customer Id             0                      0.000000\n",
       "YearOfObservation       0                      0.000000\n",
       "Insured_Period          0                      0.000000\n",
       "Residential             0                      0.000000\n",
       "Building_Painted        0                      0.000000\n",
       "Building_Fenced         0                      0.000000\n",
       "Settlement              0                      0.000000\n",
       "Building_Type           0                      0.000000\n",
       "NumberOfWindows         0                      0.000000\n",
       "Claim                   0                      0.000000"
      ]
     },
     "execution_count": 7,
     "metadata": {},
     "output_type": "execute_result"
    }
   ],
   "source": [
    "Total = df_train.isnull().sum().sort_values(ascending=False) \n",
    "Percent = (df_train.isnull().sum()*100/df_train.isnull().count()).sort_values(ascending=False)   \n",
    "missing_values = pd.concat([Total, Percent], axis = 1, keys = ['Total', 'Percentage of Missing Values'])\n",
    "missing_values"
   ]
  },
  {
   "cell_type": "markdown",
   "id": "e788cb0b",
   "metadata": {},
   "source": [
    "The missing values are present in the data for the Date_of_Occupancy, Building Dimension, Geo_Code, and Garden variables"
   ]
  },
  {
   "cell_type": "markdown",
   "id": "e182960d",
   "metadata": {},
   "source": [
    "Visualize Missing Values using Heatmap"
   ]
  },
  {
   "cell_type": "code",
   "execution_count": 8,
   "id": "95478abd",
   "metadata": {},
   "outputs": [
    {
     "data": {
      "image/png": "[encoded data removed]",
      "text/plain": [
       "<Figure size 1080x576 with 1 Axes>"
      ]
     },
     "metadata": {
      "needs_background": "light"
     },
     "output_type": "display_data"
    }
   ],
   "source": [
    "plt.figure(figsize=(15, 8))\n",
    "sns.heatmap(df_train.isnull(), cbar=False)\n",
    "plt.show()"
   ]
  },
  {
   "cell_type": "markdown",
   "id": "5cd3ae56",
   "metadata": {},
   "source": [
    "Deal with Missing Values"
   ]
  },
  {
   "cell_type": "code",
   "execution_count": 9,
   "id": "fc9ce157",
   "metadata": {},
   "outputs": [],
   "source": [
    "#We replace missing values for the building dimension and date of occupancy with Median since\n",
    "#Both are highly skewed\n",
    "df_train['Date_of_Occupancy'] = df_train['Date_of_Occupancy'].fillna(df_train['Date_of_Occupancy'].median())\n",
    "df_train['Building Dimension'] = df_train['Building Dimension'].fillna(df_train['Building Dimension'].median())"
   ]
  },
  {
   "cell_type": "code",
   "execution_count": 11,
   "id": "d8aa00f3",
   "metadata": {},
   "outputs": [],
   "source": [
    "#We replace the categorical variables with the mode\n",
    "df_train['Garden'] = df_train['Garden'].fillna(df_train['Garden'].mode()[0])\n",
    "df_train['Geo_Code'] = df_train['Geo_Code'].fillna(df_train['Geo_Code'].mode()[0])"
   ]
  },
  {
   "cell_type": "code",
   "execution_count": 12,
   "id": "16874d17",
   "metadata": {},
   "outputs": [
    {
     "data": {
      "text/plain": [
       "Customer Id           0\n",
       "YearOfObservation     0\n",
       "Insured_Period        0\n",
       "Residential           0\n",
       "Building_Painted      0\n",
       "Building_Fenced       0\n",
       "Garden                0\n",
       "Settlement            0\n",
       "Building Dimension    0\n",
       "Building_Type         0\n",
       "Date_of_Occupancy     0\n",
       "NumberOfWindows       0\n",
       "Geo_Code              0\n",
       "Claim                 0\n",
       "dtype: int64"
      ]
     },
     "execution_count": 12,
     "metadata": {},
     "output_type": "execute_result"
    }
   ],
   "source": [
    "df_train.isnull().sum()\n",
    "#Now, we obtain the dataset with no missing values"
   ]
  },
  {
   "cell_type": "markdown",
   "id": "c6a2477c",
   "metadata": {},
   "source": [
    "# Exploratory Data Analysis"
   ]
  },
  {
   "cell_type": "code",
   "execution_count": 13,
   "id": "d629d4d7",
   "metadata": {},
   "outputs": [
    {
     "data": {
      "text/html": [
       "<div>\n",
       "<style scoped>\n",
       "    .dataframe tbody tr th:only-of-type {\n",
       "        vertical-align: middle;\n",
       "    }\n",
       "\n",
       "    .dataframe tbody tr th {\n",
       "        vertical-align: top;\n",
       "    }\n",
       "\n",
       "    .dataframe thead th {\n",
       "        text-align: right;\n",
       "    }\n",
       "</style>\n",
       "<table border=\"1\" class=\"dataframe\">\n",
       "  <thead>\n",
       "    <tr style=\"text-align: right;\">\n",
       "      <th></th>\n",
       "      <th>Customer Id</th>\n",
       "      <th>Building_Painted</th>\n",
       "      <th>Building_Fenced</th>\n",
       "      <th>Garden</th>\n",
       "      <th>Settlement</th>\n",
       "      <th>NumberOfWindows</th>\n",
       "      <th>Geo_Code</th>\n",
       "    </tr>\n",
       "  </thead>\n",
       "  <tbody>\n",
       "    <tr>\n",
       "      <th>count</th>\n",
       "      <td>7160</td>\n",
       "      <td>7160</td>\n",
       "      <td>7160</td>\n",
       "      <td>7160</td>\n",
       "      <td>7160</td>\n",
       "      <td>7160</td>\n",
       "      <td>7160</td>\n",
       "    </tr>\n",
       "    <tr>\n",
       "      <th>unique</th>\n",
       "      <td>7160</td>\n",
       "      <td>2</td>\n",
       "      <td>2</td>\n",
       "      <td>2</td>\n",
       "      <td>2</td>\n",
       "      <td>11</td>\n",
       "      <td>1307</td>\n",
       "    </tr>\n",
       "    <tr>\n",
       "      <th>top</th>\n",
       "      <td>H14663</td>\n",
       "      <td>V</td>\n",
       "      <td>N</td>\n",
       "      <td>O</td>\n",
       "      <td>R</td>\n",
       "      <td>.</td>\n",
       "      <td>6088</td>\n",
       "    </tr>\n",
       "    <tr>\n",
       "      <th>freq</th>\n",
       "      <td>1</td>\n",
       "      <td>5382</td>\n",
       "      <td>3608</td>\n",
       "      <td>3609</td>\n",
       "      <td>3610</td>\n",
       "      <td>3551</td>\n",
       "      <td>245</td>\n",
       "    </tr>\n",
       "  </tbody>\n",
       "</table>\n",
       "</div>"
      ],
      "text/plain": [
       "       Customer Id Building_Painted Building_Fenced Garden Settlement  \\\n",
       "count         7160             7160            7160   7160       7160   \n",
       "unique        7160                2               2      2          2   \n",
       "top         H14663                V               N      O          R   \n",
       "freq             1             5382            3608   3609       3610   \n",
       "\n",
       "       NumberOfWindows Geo_Code  \n",
       "count             7160     7160  \n",
       "unique              11     1307  \n",
       "top                  .     6088  \n",
       "freq              3551      245  "
      ]
     },
     "execution_count": 13,
     "metadata": {},
     "output_type": "execute_result"
    }
   ],
   "source": [
    "#For categorical feature\n",
    "df_train.describe(include = object)"
   ]
  },
  {
   "cell_type": "code",
   "execution_count": 14,
   "id": "f394d6bd",
   "metadata": {},
   "outputs": [
    {
     "data": {
      "text/html": [
       "<div>\n",
       "<style scoped>\n",
       "    .dataframe tbody tr th:only-of-type {\n",
       "        vertical-align: middle;\n",
       "    }\n",
       "\n",
       "    .dataframe tbody tr th {\n",
       "        vertical-align: top;\n",
       "    }\n",
       "\n",
       "    .dataframe thead th {\n",
       "        text-align: right;\n",
       "    }\n",
       "</style>\n",
       "<table border=\"1\" class=\"dataframe\">\n",
       "  <thead>\n",
       "    <tr style=\"text-align: right;\">\n",
       "      <th></th>\n",
       "      <th>YearOfObservation</th>\n",
       "      <th>Insured_Period</th>\n",
       "      <th>Residential</th>\n",
       "      <th>Building Dimension</th>\n",
       "      <th>Building_Type</th>\n",
       "      <th>Date_of_Occupancy</th>\n",
       "      <th>Claim</th>\n",
       "    </tr>\n",
       "  </thead>\n",
       "  <tbody>\n",
       "    <tr>\n",
       "      <th>count</th>\n",
       "      <td>7160.00</td>\n",
       "      <td>7160.00</td>\n",
       "      <td>7160.00</td>\n",
       "      <td>7160.00</td>\n",
       "      <td>7160.00</td>\n",
       "      <td>7160.00</td>\n",
       "      <td>7160.00</td>\n",
       "    </tr>\n",
       "    <tr>\n",
       "      <th>mean</th>\n",
       "      <td>2013.67</td>\n",
       "      <td>0.91</td>\n",
       "      <td>0.31</td>\n",
       "      <td>1871.87</td>\n",
       "      <td>2.19</td>\n",
       "      <td>1964.85</td>\n",
       "      <td>0.23</td>\n",
       "    </tr>\n",
       "    <tr>\n",
       "      <th>std</th>\n",
       "      <td>1.38</td>\n",
       "      <td>0.24</td>\n",
       "      <td>0.46</td>\n",
       "      <td>2263.30</td>\n",
       "      <td>0.94</td>\n",
       "      <td>34.73</td>\n",
       "      <td>0.42</td>\n",
       "    </tr>\n",
       "    <tr>\n",
       "      <th>min</th>\n",
       "      <td>2012.00</td>\n",
       "      <td>0.00</td>\n",
       "      <td>0.00</td>\n",
       "      <td>1.00</td>\n",
       "      <td>1.00</td>\n",
       "      <td>1545.00</td>\n",
       "      <td>0.00</td>\n",
       "    </tr>\n",
       "    <tr>\n",
       "      <th>25%</th>\n",
       "      <td>2012.00</td>\n",
       "      <td>1.00</td>\n",
       "      <td>0.00</td>\n",
       "      <td>531.50</td>\n",
       "      <td>2.00</td>\n",
       "      <td>1960.00</td>\n",
       "      <td>0.00</td>\n",
       "    </tr>\n",
       "    <tr>\n",
       "      <th>50%</th>\n",
       "      <td>2013.00</td>\n",
       "      <td>1.00</td>\n",
       "      <td>0.00</td>\n",
       "      <td>1083.00</td>\n",
       "      <td>2.00</td>\n",
       "      <td>1970.00</td>\n",
       "      <td>0.00</td>\n",
       "    </tr>\n",
       "    <tr>\n",
       "      <th>75%</th>\n",
       "      <td>2015.00</td>\n",
       "      <td>1.00</td>\n",
       "      <td>1.00</td>\n",
       "      <td>2250.00</td>\n",
       "      <td>3.00</td>\n",
       "      <td>1980.00</td>\n",
       "      <td>0.00</td>\n",
       "    </tr>\n",
       "    <tr>\n",
       "      <th>max</th>\n",
       "      <td>2016.00</td>\n",
       "      <td>1.00</td>\n",
       "      <td>1.00</td>\n",
       "      <td>20940.00</td>\n",
       "      <td>4.00</td>\n",
       "      <td>2016.00</td>\n",
       "      <td>1.00</td>\n",
       "    </tr>\n",
       "  </tbody>\n",
       "</table>\n",
       "</div>"
      ],
      "text/plain": [
       "       YearOfObservation  Insured_Period  Residential  Building Dimension  \\\n",
       "count            7160.00         7160.00      7160.00             7160.00   \n",
       "mean             2013.67            0.91         0.31             1871.87   \n",
       "std                 1.38            0.24         0.46             2263.30   \n",
       "min              2012.00            0.00         0.00                1.00   \n",
       "25%              2012.00            1.00         0.00              531.50   \n",
       "50%              2013.00            1.00         0.00             1083.00   \n",
       "75%              2015.00            1.00         1.00             2250.00   \n",
       "max              2016.00            1.00         1.00            20940.00   \n",
       "\n",
       "       Building_Type  Date_of_Occupancy    Claim  \n",
       "count        7160.00            7160.00  7160.00  \n",
       "mean            2.19            1964.85     0.23  \n",
       "std             0.94              34.73     0.42  \n",
       "min             1.00            1545.00     0.00  \n",
       "25%             2.00            1960.00     0.00  \n",
       "50%             2.00            1970.00     0.00  \n",
       "75%             3.00            1980.00     0.00  \n",
       "max             4.00            2016.00     1.00  "
      ]
     },
     "execution_count": 14,
     "metadata": {},
     "output_type": "execute_result"
    }
   ],
   "source": [
    "#In our dataset we have numerical and categorical variables. Now we check for summary statistics of all the variables\n",
    "df_train.describe().round(2)"
   ]
  },
  {
   "cell_type": "markdown",
   "id": "e644f84f",
   "metadata": {},
   "source": [
    "#### Correlation"
   ]
  },
  {
   "cell_type": "markdown",
   "id": "6ad27ef5",
   "metadata": {},
   "source": [
    "In order to compute the correlation matrix, we perform the following:\n",
    "\n",
    "        1. Filter out only the numeric variables from the dataframe using select_dtypes() function<br>\n",
    "        2. Call the corr() function which will return the correlation matrix of numeric variables <br>\n",
    "        3. Pass the correlation matrix to the heatmap() function of the seaborn library to plot the heatmap of the correlation matrix"
   ]
  },
  {
   "cell_type": "code",
   "execution_count": 15,
   "id": "64c3d555",
   "metadata": {},
   "outputs": [
    {
     "data": {
      "text/plain": [
       "Index(['YearOfObservation', 'Insured_Period', 'Residential',\n",
       "       'Building Dimension', 'Building_Type', 'Date_of_Occupancy', 'Claim'],\n",
       "      dtype='object')"
      ]
     },
     "execution_count": 15,
     "metadata": {},
     "output_type": "execute_result"
    }
   ],
   "source": [
    "df_num_features = df_train.select_dtypes(include=np.number)\n",
    "df_num_features.columns"
   ]
  },
  {
   "cell_type": "code",
   "execution_count": 16,
   "id": "97f26e93",
   "metadata": {},
   "outputs": [
    {
     "data": {
      "text/html": [
       "<div>\n",
       "<style scoped>\n",
       "    .dataframe tbody tr th:only-of-type {\n",
       "        vertical-align: middle;\n",
       "    }\n",
       "\n",
       "    .dataframe tbody tr th {\n",
       "        vertical-align: top;\n",
       "    }\n",
       "\n",
       "    .dataframe thead th {\n",
       "        text-align: right;\n",
       "    }\n",
       "</style>\n",
       "<table border=\"1\" class=\"dataframe\">\n",
       "  <thead>\n",
       "    <tr style=\"text-align: right;\">\n",
       "      <th></th>\n",
       "      <th>YearOfObservation</th>\n",
       "      <th>Insured_Period</th>\n",
       "      <th>Residential</th>\n",
       "      <th>Building Dimension</th>\n",
       "      <th>Building_Type</th>\n",
       "      <th>Date_of_Occupancy</th>\n",
       "      <th>Claim</th>\n",
       "    </tr>\n",
       "  </thead>\n",
       "  <tbody>\n",
       "    <tr>\n",
       "      <th>YearOfObservation</th>\n",
       "      <td>1.000000</td>\n",
       "      <td>0.025434</td>\n",
       "      <td>-0.040391</td>\n",
       "      <td>0.010959</td>\n",
       "      <td>0.005490</td>\n",
       "      <td>-0.030230</td>\n",
       "      <td>-0.016367</td>\n",
       "    </tr>\n",
       "    <tr>\n",
       "      <th>Insured_Period</th>\n",
       "      <td>0.025434</td>\n",
       "      <td>1.000000</td>\n",
       "      <td>-0.037620</td>\n",
       "      <td>0.008822</td>\n",
       "      <td>-0.017811</td>\n",
       "      <td>-0.010523</td>\n",
       "      <td>0.088715</td>\n",
       "    </tr>\n",
       "    <tr>\n",
       "      <th>Residential</th>\n",
       "      <td>-0.040391</td>\n",
       "      <td>-0.037620</td>\n",
       "      <td>1.000000</td>\n",
       "      <td>0.056357</td>\n",
       "      <td>0.334039</td>\n",
       "      <td>-0.036885</td>\n",
       "      <td>0.063509</td>\n",
       "    </tr>\n",
       "    <tr>\n",
       "      <th>Building Dimension</th>\n",
       "      <td>0.010959</td>\n",
       "      <td>0.008822</td>\n",
       "      <td>0.056357</td>\n",
       "      <td>1.000000</td>\n",
       "      <td>0.009184</td>\n",
       "      <td>0.196190</td>\n",
       "      <td>0.295558</td>\n",
       "    </tr>\n",
       "    <tr>\n",
       "      <th>Building_Type</th>\n",
       "      <td>0.005490</td>\n",
       "      <td>-0.017811</td>\n",
       "      <td>0.334039</td>\n",
       "      <td>0.009184</td>\n",
       "      <td>1.000000</td>\n",
       "      <td>-0.137001</td>\n",
       "      <td>0.112168</td>\n",
       "    </tr>\n",
       "    <tr>\n",
       "      <th>Date_of_Occupancy</th>\n",
       "      <td>-0.030230</td>\n",
       "      <td>-0.010523</td>\n",
       "      <td>-0.036885</td>\n",
       "      <td>0.196190</td>\n",
       "      <td>-0.137001</td>\n",
       "      <td>1.000000</td>\n",
       "      <td>0.017781</td>\n",
       "    </tr>\n",
       "    <tr>\n",
       "      <th>Claim</th>\n",
       "      <td>-0.016367</td>\n",
       "      <td>0.088715</td>\n",
       "      <td>0.063509</td>\n",
       "      <td>0.295558</td>\n",
       "      <td>0.112168</td>\n",
       "      <td>0.017781</td>\n",
       "      <td>1.000000</td>\n",
       "    </tr>\n",
       "  </tbody>\n",
       "</table>\n",
       "</div>"
      ],
      "text/plain": [
       "                    YearOfObservation  Insured_Period  Residential  \\\n",
       "YearOfObservation            1.000000        0.025434    -0.040391   \n",
       "Insured_Period               0.025434        1.000000    -0.037620   \n",
       "Residential                 -0.040391       -0.037620     1.000000   \n",
       "Building Dimension           0.010959        0.008822     0.056357   \n",
       "Building_Type                0.005490       -0.017811     0.334039   \n",
       "Date_of_Occupancy           -0.030230       -0.010523    -0.036885   \n",
       "Claim                       -0.016367        0.088715     0.063509   \n",
       "\n",
       "                    Building Dimension  Building_Type  Date_of_Occupancy  \\\n",
       "YearOfObservation             0.010959       0.005490          -0.030230   \n",
       "Insured_Period                0.008822      -0.017811          -0.010523   \n",
       "Residential                   0.056357       0.334039          -0.036885   \n",
       "Building Dimension            1.000000       0.009184           0.196190   \n",
       "Building_Type                 0.009184       1.000000          -0.137001   \n",
       "Date_of_Occupancy             0.196190      -0.137001           1.000000   \n",
       "Claim                         0.295558       0.112168           0.017781   \n",
       "\n",
       "                       Claim  \n",
       "YearOfObservation  -0.016367  \n",
       "Insured_Period      0.088715  \n",
       "Residential         0.063509  \n",
       "Building Dimension  0.295558  \n",
       "Building_Type       0.112168  \n",
       "Date_of_Occupancy   0.017781  \n",
       "Claim               1.000000  "
      ]
     },
     "execution_count": 16,
     "metadata": {},
     "output_type": "execute_result"
    }
   ],
   "source": [
    "corr =  df_num_features.corr()\n",
    "corr"
   ]
  },
  {
   "cell_type": "code",
   "execution_count": 17,
   "id": "64059d48",
   "metadata": {
    "scrolled": true
   },
   "outputs": [
    {
     "data": {
      "image/png": "[encoded data removed]",
      "text/plain": [
       "<Figure size 1080x576 with 2 Axes>"
      ]
     },
     "metadata": {
      "needs_background": "light"
     },
     "output_type": "display_data"
    }
   ],
   "source": [
    "plt.figure(figsize=(15, 8))\n",
    "sns.heatmap(corr, cmap='YlGnBu', vmax=1.0, vmin=-1.0, annot = True, annot_kws={\"size\": 15}, )\n",
    "plt.title('Correlation between numeric features')\n",
    "plt.show()"
   ]
  },
  {
   "cell_type": "markdown",
   "id": "c2a7ef2a",
   "metadata": {},
   "source": [
    "It can be observe that the numeric variables are not correlated with each other since all the correlation coefficients are close to zero. It implies that there is no multicollinearity in the data.\n",
    "\n",
    "Recollect that one of the assumptions of linear regression is that, there should be NO Multicollinearity present in the data.\n",
    "\n",
    "Correlation does not imply causation. In other words, if two variables are correlated it does not mean that one variable caused the other"
   ]
  },
  {
   "cell_type": "markdown",
   "id": "a88e751d",
   "metadata": {},
   "source": [
    "#### Analyze Numerical Variables"
   ]
  },
  {
   "cell_type": "code",
   "execution_count": 18,
   "id": "38e2a150",
   "metadata": {},
   "outputs": [
    {
     "data": {
      "image/png": "[encoded data removed]",
      "text/plain": [
       "<Figure size 720x1080 with 4 Axes>"
      ]
     },
     "metadata": {
      "needs_background": "light"
     },
     "output_type": "display_data"
    }
   ],
   "source": [
    "#Numerical Data\n",
    "train_num = ['Building Dimension', 'Date_of_Occupancy']\n",
    "\n",
    "#  plot Numerical Data\n",
    "a = 2  # number of rows\n",
    "b = 2  # number of columns\n",
    "c = 1  # initialize plot counter\n",
    "\n",
    "fig = plt.figure(figsize=(10,15))\n",
    "\n",
    "for i in train_num:\n",
    "    plt.subplot(a, b, c)\n",
    "    plt.title('{} (dist), subplot: {}{}{}'.format(i, a, b, c))\n",
    "    plt.xlabel(i)\n",
    "    sns.distplot(df_train[i])\n",
    "    c = c + 1\n",
    "\n",
    "    plt.subplot(a, b, c)\n",
    "    plt.title('{} (box), subplot: {}{}{}'.format(i, a, b, c))\n",
    "    plt.xlabel(i)\n",
    "    plt.boxplot(x = df_train[i])\n",
    "    c = c + 1\n",
    "\n",
    "    #plt.subplot(a, b, c)\n",
    "    #plt.title('{} (scatter), subplot: {}{}{}'.format(i, a, b, c))\n",
    "    #plt.xlabel(i)\n",
    "    #sns.scatterplot(data = train_df, x = i, y = 'chol', hue = 'claim')\n",
    "    #c = c + 1\n",
    "\n",
    "plt.show()"
   ]
  },
  {
   "cell_type": "code",
   "execution_count": 19,
   "id": "aba4758b",
   "metadata": {},
   "outputs": [
    {
     "data": {
      "image/png": "[encoded data removed]",
      "text/plain": [
       "<Figure size 432x288 with 1 Axes>"
      ]
     },
     "metadata": {
      "needs_background": "light"
     },
     "output_type": "display_data"
    },
    {
     "data": {
      "image/png": "[encoded data removed]",
      "text/plain": [
       "<Figure size 432x288 with 1 Axes>"
      ]
     },
     "metadata": {
      "needs_background": "light"
     },
     "output_type": "display_data"
    }
   ],
   "source": [
    "for i in train_num:\n",
    "    \n",
    "    fig, ax = plt.subplots()\n",
    "\n",
    "    ax.hist(df_train[df_train['Claim']==0][i], bins=15, alpha=0.5, color=\"blue\", label=\"No\")\n",
    "    ax.hist(df_train[df_train['Claim']==1][i], bins=15, alpha=0.5, color=\"green\", label=\"Yes\")\n",
    "\n",
    "    ax.set_xlabel(i)\n",
    "    ax.set_ylabel(\"Frequency\")\n",
    "\n",
    "    ax.legend()"
   ]
  },
  {
   "cell_type": "code",
   "execution_count": 20,
   "id": "5c631b24",
   "metadata": {},
   "outputs": [
    {
     "data": {
      "image/png": "[encoded data removed]",
      "text/plain": [
       "<Figure size 432x360 with 1 Axes>"
      ]
     },
     "metadata": {
      "needs_background": "light"
     },
     "output_type": "display_data"
    }
   ],
   "source": [
    "#The target variable distribution\n",
    "fig = plt.figure(figsize=(6,5))\n",
    "plt.title('The claim Distribution')\n",
    "plt.hist(df_train['Claim'])\n",
    "plt.show()"
   ]
  },
  {
   "cell_type": "markdown",
   "id": "a670114b",
   "metadata": {},
   "source": [
    "#### Analyze Categorical Variables"
   ]
  },
  {
   "cell_type": "markdown",
   "id": "fa846cb0",
   "metadata": {},
   "source": [
    "Categorical variables are those in which the values are labeled categories. The values, distribution, and dispersion of categorical variables are best understood with bar plots.\n",
    "\n",
    "First let us print the summary statistics of the categorical features."
   ]
  },
  {
   "cell_type": "code",
   "execution_count": 21,
   "id": "dccf9c34",
   "metadata": {},
   "outputs": [
    {
     "data": {
      "text/html": [
       "<div>\n",
       "<style scoped>\n",
       "    .dataframe tbody tr th:only-of-type {\n",
       "        vertical-align: middle;\n",
       "    }\n",
       "\n",
       "    .dataframe tbody tr th {\n",
       "        vertical-align: top;\n",
       "    }\n",
       "\n",
       "    .dataframe thead th {\n",
       "        text-align: right;\n",
       "    }\n",
       "</style>\n",
       "<table border=\"1\" class=\"dataframe\">\n",
       "  <thead>\n",
       "    <tr style=\"text-align: right;\">\n",
       "      <th></th>\n",
       "      <th>Customer Id</th>\n",
       "      <th>Building_Painted</th>\n",
       "      <th>Building_Fenced</th>\n",
       "      <th>Garden</th>\n",
       "      <th>Settlement</th>\n",
       "      <th>NumberOfWindows</th>\n",
       "      <th>Geo_Code</th>\n",
       "    </tr>\n",
       "  </thead>\n",
       "  <tbody>\n",
       "    <tr>\n",
       "      <th>count</th>\n",
       "      <td>7160</td>\n",
       "      <td>7160</td>\n",
       "      <td>7160</td>\n",
       "      <td>7160</td>\n",
       "      <td>7160</td>\n",
       "      <td>7160</td>\n",
       "      <td>7160</td>\n",
       "    </tr>\n",
       "    <tr>\n",
       "      <th>unique</th>\n",
       "      <td>7160</td>\n",
       "      <td>2</td>\n",
       "      <td>2</td>\n",
       "      <td>2</td>\n",
       "      <td>2</td>\n",
       "      <td>11</td>\n",
       "      <td>1307</td>\n",
       "    </tr>\n",
       "    <tr>\n",
       "      <th>top</th>\n",
       "      <td>H14663</td>\n",
       "      <td>V</td>\n",
       "      <td>N</td>\n",
       "      <td>O</td>\n",
       "      <td>R</td>\n",
       "      <td>.</td>\n",
       "      <td>6088</td>\n",
       "    </tr>\n",
       "    <tr>\n",
       "      <th>freq</th>\n",
       "      <td>1</td>\n",
       "      <td>5382</td>\n",
       "      <td>3608</td>\n",
       "      <td>3609</td>\n",
       "      <td>3610</td>\n",
       "      <td>3551</td>\n",
       "      <td>245</td>\n",
       "    </tr>\n",
       "  </tbody>\n",
       "</table>\n",
       "</div>"
      ],
      "text/plain": [
       "       Customer Id Building_Painted Building_Fenced Garden Settlement  \\\n",
       "count         7160             7160            7160   7160       7160   \n",
       "unique        7160                2               2      2          2   \n",
       "top         H14663                V               N      O          R   \n",
       "freq             1             5382            3608   3609       3610   \n",
       "\n",
       "       NumberOfWindows Geo_Code  \n",
       "count             7160     7160  \n",
       "unique              11     1307  \n",
       "top                  .     6088  \n",
       "freq              3551      245  "
      ]
     },
     "execution_count": 21,
     "metadata": {},
     "output_type": "execute_result"
    }
   ],
   "source": [
    "df_train.describe(include = object)"
   ]
  },
  {
   "cell_type": "markdown",
   "id": "4da456ca",
   "metadata": {},
   "source": [
    "There are 7 categorical variables. From the output we see that the Customer Id and Geo Code has most number of categories.\n",
    "\n",
    "Let us visualize the variables. However, we shall exculde the variable city from it."
   ]
  },
  {
   "cell_type": "code",
   "execution_count": 22,
   "id": "40859b10",
   "metadata": {},
   "outputs": [
    {
     "data": {
      "image/png": "[encoded data removed]",
      "text/plain": [
       "<Figure size 1080x720 with 6 Axes>"
      ]
     },
     "metadata": {
      "needs_background": "light"
     },
     "output_type": "display_data"
    }
   ],
   "source": [
    "#Categorical Variables\n",
    "train_cat = ['Building_Painted','Building_Fenced','Garden','Settlement','NumberOfWindows','Geo_Code']\n",
    "\n",
    "#  plot Numerical Data\n",
    "a = 2  # number of rows\n",
    "b = 3  # number of columns\n",
    "c = 1  # initialize plot counter\n",
    "\n",
    "fig = plt.figure(figsize=(15,10))\n",
    "\n",
    "for i in train_cat:\n",
    "    plt.subplot(a, b, c)\n",
    "    plt.title('{}'.format(i))\n",
    "    #plt.xlabel(i)\n",
    "    plt.hist(df_train[i])\n",
    "    c = c + 1\n",
    "\n",
    "plt.show()"
   ]
  },
  {
   "cell_type": "markdown",
   "id": "f1fc988e",
   "metadata": {},
   "source": [
    "#### Analyze Relationship Between Target and Categorical Variables"
   ]
  },
  {
   "cell_type": "code",
   "execution_count": 23,
   "id": "92252ba7",
   "metadata": {},
   "outputs": [
    {
     "data": {
      "image/png": "[encoded data removed]",
      "text/plain": [
       "<Figure size 432x288 with 1 Axes>"
      ]
     },
     "metadata": {
      "needs_background": "light"
     },
     "output_type": "display_data"
    },
    {
     "data": {
      "image/png": "[encoded data removed]",
      "text/plain": [
       "<Figure size 432x288 with 1 Axes>"
      ]
     },
     "metadata": {
      "needs_background": "light"
     },
     "output_type": "display_data"
    },
    {
     "data": {
      "image/png": "[encoded data removed]",
      "text/plain": [
       "<Figure size 432x288 with 1 Axes>"
      ]
     },
     "metadata": {
      "needs_background": "light"
     },
     "output_type": "display_data"
    },
    {
     "data": {
      "image/png": "[encoded data removed]",
      "text/plain": [
       "<Figure size 432x288 with 1 Axes>"
      ]
     },
     "metadata": {
      "needs_background": "light"
     },
     "output_type": "display_data"
    },
    {
     "data": {
      "image/png": "[encoded data removed]",
      "text/plain": [
       "<Figure size 432x288 with 1 Axes>"
      ]
     },
     "metadata": {
      "needs_background": "light"
     },
     "output_type": "display_data"
    }
   ],
   "source": [
    "#Categorical Variables\n",
    "train_cat = ['Building_Painted','Building_Fenced','Garden','Settlement','NumberOfWindows']\n",
    "\n",
    "for i in train_cat:\n",
    "\n",
    "    pd.crosstab(df_train[i], df_train.Claim).plot(kind = 'bar')\n",
    "    plt.xlabel('{}'.format(i))\n",
    "    plt.ylabel('Claim Outcome')\n",
    "    \n",
    "plt.show()"
   ]
  },
  {
   "cell_type": "markdown",
   "id": "1af08c59",
   "metadata": {},
   "source": [
    "# Feature Engineering"
   ]
  },
  {
   "cell_type": "markdown",
   "id": "1bd85ba5",
   "metadata": {},
   "source": [
    "#### Remove outliers"
   ]
  },
  {
   "cell_type": "markdown",
   "id": "4176fcca",
   "metadata": {},
   "source": [
    "An outlier is an observation that appears to deviate distinctly from other observations in the data. If the outliers are not removed, the model accuracy may decrease.\n",
    "\n",
    "Recollect that one of the assumptions of Linear Regression is there should be no outliers present in the data\n",
    "\n",
    "In order to detect outliers in numerical data, we perform the following:\n",
    "\n",
    "       1. Plot boxplot for numerical data.\n",
    "       2. Note the variables for which outliers are present.\n",
    "       3. Remove outliers by IQR method.\n",
    "       4. Plot boxplot to recheck for outliers."
   ]
  },
  {
   "cell_type": "code",
   "execution_count": 24,
   "id": "8e2153b1",
   "metadata": {},
   "outputs": [],
   "source": [
    "train_df_copy = df_train.copy()"
   ]
  },
  {
   "cell_type": "code",
   "execution_count": 25,
   "id": "eff18064",
   "metadata": {},
   "outputs": [
    {
     "data": {
      "text/plain": [
       "(7160, 14)"
      ]
     },
     "execution_count": 25,
     "metadata": {},
     "output_type": "execute_result"
    }
   ],
   "source": [
    "train_df_copy.shape"
   ]
  },
  {
   "cell_type": "code",
   "execution_count": 26,
   "id": "4fd1371d",
   "metadata": {},
   "outputs": [
    {
     "data": {
      "text/html": [
       "<div>\n",
       "<style scoped>\n",
       "    .dataframe tbody tr th:only-of-type {\n",
       "        vertical-align: middle;\n",
       "    }\n",
       "\n",
       "    .dataframe tbody tr th {\n",
       "        vertical-align: top;\n",
       "    }\n",
       "\n",
       "    .dataframe thead th {\n",
       "        text-align: right;\n",
       "    }\n",
       "</style>\n",
       "<table border=\"1\" class=\"dataframe\">\n",
       "  <thead>\n",
       "    <tr style=\"text-align: right;\">\n",
       "      <th></th>\n",
       "      <th>YearOfObservation</th>\n",
       "      <th>Insured_Period</th>\n",
       "      <th>Residential</th>\n",
       "      <th>Building Dimension</th>\n",
       "      <th>Building_Type</th>\n",
       "      <th>Date_of_Occupancy</th>\n",
       "      <th>Claim</th>\n",
       "    </tr>\n",
       "  </thead>\n",
       "  <tbody>\n",
       "    <tr>\n",
       "      <th>count</th>\n",
       "      <td>7160.00</td>\n",
       "      <td>7160.00</td>\n",
       "      <td>7160.00</td>\n",
       "      <td>7160.00</td>\n",
       "      <td>7160.00</td>\n",
       "      <td>7160.00</td>\n",
       "      <td>7160.00</td>\n",
       "    </tr>\n",
       "    <tr>\n",
       "      <th>mean</th>\n",
       "      <td>2013.67</td>\n",
       "      <td>0.91</td>\n",
       "      <td>0.31</td>\n",
       "      <td>1871.87</td>\n",
       "      <td>2.19</td>\n",
       "      <td>1964.85</td>\n",
       "      <td>0.23</td>\n",
       "    </tr>\n",
       "    <tr>\n",
       "      <th>std</th>\n",
       "      <td>1.38</td>\n",
       "      <td>0.24</td>\n",
       "      <td>0.46</td>\n",
       "      <td>2263.30</td>\n",
       "      <td>0.94</td>\n",
       "      <td>34.73</td>\n",
       "      <td>0.42</td>\n",
       "    </tr>\n",
       "    <tr>\n",
       "      <th>min</th>\n",
       "      <td>2012.00</td>\n",
       "      <td>0.00</td>\n",
       "      <td>0.00</td>\n",
       "      <td>1.00</td>\n",
       "      <td>1.00</td>\n",
       "      <td>1545.00</td>\n",
       "      <td>0.00</td>\n",
       "    </tr>\n",
       "    <tr>\n",
       "      <th>25%</th>\n",
       "      <td>2012.00</td>\n",
       "      <td>1.00</td>\n",
       "      <td>0.00</td>\n",
       "      <td>531.50</td>\n",
       "      <td>2.00</td>\n",
       "      <td>1960.00</td>\n",
       "      <td>0.00</td>\n",
       "    </tr>\n",
       "    <tr>\n",
       "      <th>50%</th>\n",
       "      <td>2013.00</td>\n",
       "      <td>1.00</td>\n",
       "      <td>0.00</td>\n",
       "      <td>1083.00</td>\n",
       "      <td>2.00</td>\n",
       "      <td>1970.00</td>\n",
       "      <td>0.00</td>\n",
       "    </tr>\n",
       "    <tr>\n",
       "      <th>75%</th>\n",
       "      <td>2015.00</td>\n",
       "      <td>1.00</td>\n",
       "      <td>1.00</td>\n",
       "      <td>2250.00</td>\n",
       "      <td>3.00</td>\n",
       "      <td>1980.00</td>\n",
       "      <td>0.00</td>\n",
       "    </tr>\n",
       "    <tr>\n",
       "      <th>max</th>\n",
       "      <td>2016.00</td>\n",
       "      <td>1.00</td>\n",
       "      <td>1.00</td>\n",
       "      <td>20940.00</td>\n",
       "      <td>4.00</td>\n",
       "      <td>2016.00</td>\n",
       "      <td>1.00</td>\n",
       "    </tr>\n",
       "  </tbody>\n",
       "</table>\n",
       "</div>"
      ],
      "text/plain": [
       "       YearOfObservation  Insured_Period  Residential  Building Dimension  \\\n",
       "count            7160.00         7160.00      7160.00             7160.00   \n",
       "mean             2013.67            0.91         0.31             1871.87   \n",
       "std                 1.38            0.24         0.46             2263.30   \n",
       "min              2012.00            0.00         0.00                1.00   \n",
       "25%              2012.00            1.00         0.00              531.50   \n",
       "50%              2013.00            1.00         0.00             1083.00   \n",
       "75%              2015.00            1.00         1.00             2250.00   \n",
       "max              2016.00            1.00         1.00            20940.00   \n",
       "\n",
       "       Building_Type  Date_of_Occupancy    Claim  \n",
       "count        7160.00            7160.00  7160.00  \n",
       "mean            2.19            1964.85     0.23  \n",
       "std             0.94              34.73     0.42  \n",
       "min             1.00            1545.00     0.00  \n",
       "25%             2.00            1960.00     0.00  \n",
       "50%             2.00            1970.00     0.00  \n",
       "75%             3.00            1980.00     0.00  \n",
       "max             4.00            2016.00     1.00  "
      ]
     },
     "execution_count": 26,
     "metadata": {},
     "output_type": "execute_result"
    }
   ],
   "source": [
    "df_train.describe().round(2)"
   ]
  },
  {
   "cell_type": "markdown",
   "id": "d9eb8ff2",
   "metadata": {},
   "source": [
    "Plot boxplot for numerical data"
   ]
  },
  {
   "cell_type": "code",
   "execution_count": 27,
   "id": "2b53daa2",
   "metadata": {
    "scrolled": true
   },
   "outputs": [
    {
     "data": {
      "image/png": "[encoded data removed]",
      "text/plain": [
       "<Figure size 1080x576 with 1 Axes>"
      ]
     },
     "metadata": {
      "needs_background": "light"
     },
     "output_type": "display_data"
    }
   ],
   "source": [
    "plt.rcParams['figure.figsize']=(15,8)\n",
    "df_num_features.boxplot(column=['YearOfObservation', 'Insured_Period', 'Residential','Building Dimension', 'Building_Type', 'Date_of_Occupancy'])\n",
    "plt.show()"
   ]
  },
  {
   "cell_type": "markdown",
   "id": "4c25e2de",
   "metadata": {},
   "source": [
    "The variables for which outliers are present\n",
    "\n",
    "From the above plot, we notice that for the variable 'Building Dimension' there are points above the upper extreme - these points are outliers\n",
    "\n",
    "Let us use the IQR method to remove the outliers"
   ]
  },
  {
   "cell_type": "code",
   "execution_count": 28,
   "id": "b34c1ef6",
   "metadata": {},
   "outputs": [
    {
     "name": "stdout",
     "output_type": "stream",
     "text": [
      "YearOfObservation        3.000000\n",
      "Insured_Period           0.002732\n",
      "Residential              1.000000\n",
      "Building Dimension    1718.500000\n",
      "Building_Type            1.000000\n",
      "Date_of_Occupancy       20.000000\n",
      "dtype: float64\n"
     ]
    }
   ],
   "source": [
    "Q1 = df_num_features.drop(['Claim'], axis=1).quantile(0.25)\n",
    "Q3 = df_num_features.drop(['Claim'], axis=1).quantile(0.75)\n",
    "\n",
    "IQR = Q3 - Q1\n",
    "\n",
    "\n",
    "print(IQR)"
   ]
  },
  {
   "cell_type": "code",
   "execution_count": 29,
   "id": "586b9de3",
   "metadata": {},
   "outputs": [],
   "source": [
    "df_train = df_train[~((df_train < (Q1 - 1.5 * IQR)) | (df_train > (Q3 + 1.5 * IQR))).any(axis=1)]"
   ]
  },
  {
   "cell_type": "code",
   "execution_count": 30,
   "id": "0d54e7d7",
   "metadata": {},
   "outputs": [
    {
     "data": {
      "text/plain": [
       "(4753, 14)"
      ]
     },
     "execution_count": 30,
     "metadata": {},
     "output_type": "execute_result"
    }
   ],
   "source": [
    "#A simple way to know whether the outliers have been removed or not is to check the dimensions of the data. If the dimensions are reduced that implies outliers are removed\n",
    "# check the shape of data using shape\n",
    "df_train.shape"
   ]
  },
  {
   "cell_type": "markdown",
   "id": "77f6c8b3",
   "metadata": {},
   "source": [
    "So that the above output shows there is a reduction in the number of rows(from 7160 to 4753). Now, to confirm that the outliers have been removed let us visualize using a boxplot.\n",
    "\n",
    "Plot boxplot to recheck for outliers"
   ]
  },
  {
   "cell_type": "code",
   "execution_count": 31,
   "id": "bf539d2e",
   "metadata": {},
   "outputs": [
    {
     "data": {
      "image/png": "[encoded data removed]",
      "text/plain": [
       "<Figure size 1080x576 with 1 Axes>"
      ]
     },
     "metadata": {
      "needs_background": "light"
     },
     "output_type": "display_data"
    }
   ],
   "source": [
    "plt.rcParams['figure.figsize']=(15,8)\n",
    "df_train.boxplot(column=['YearOfObservation', 'Insured_Period', 'Residential','Building Dimension', 'Building_Type', 'Date_of_Occupancy'])\n",
    "plt.show()"
   ]
  },
  {
   "cell_type": "markdown",
   "id": "3e736fb5",
   "metadata": {},
   "source": [
    "Observing the range of the boxplot, we say that the outliers are removed from the original data. The new 'outliers' that you see are moderate outliers that lie within the min/max range before removing the actual outliers"
   ]
  },
  {
   "cell_type": "markdown",
   "id": "73db2a87",
   "metadata": {},
   "source": [
    "#### Recheck the Correlation"
   ]
  },
  {
   "cell_type": "code",
   "execution_count": 32,
   "id": "2bee8cbc",
   "metadata": {},
   "outputs": [
    {
     "data": {
      "text/plain": [
       "Index(['YearOfObservation', 'Insured_Period', 'Residential',\n",
       "       'Building Dimension', 'Building_Type', 'Date_of_Occupancy', 'Claim'],\n",
       "      dtype='object')"
      ]
     },
     "execution_count": 32,
     "metadata": {},
     "output_type": "execute_result"
    }
   ],
   "source": [
    "df_num_features = df_train.select_dtypes(include=np.number)\n",
    "df_num_features.columns"
   ]
  },
  {
   "cell_type": "code",
   "execution_count": 33,
   "id": "34e58a6e",
   "metadata": {},
   "outputs": [
    {
     "data": {
      "text/html": [
       "<div>\n",
       "<style scoped>\n",
       "    .dataframe tbody tr th:only-of-type {\n",
       "        vertical-align: middle;\n",
       "    }\n",
       "\n",
       "    .dataframe tbody tr th {\n",
       "        vertical-align: top;\n",
       "    }\n",
       "\n",
       "    .dataframe thead th {\n",
       "        text-align: right;\n",
       "    }\n",
       "</style>\n",
       "<table border=\"1\" class=\"dataframe\">\n",
       "  <thead>\n",
       "    <tr style=\"text-align: right;\">\n",
       "      <th></th>\n",
       "      <th>YearOfObservation</th>\n",
       "      <th>Insured_Period</th>\n",
       "      <th>Residential</th>\n",
       "      <th>Building Dimension</th>\n",
       "      <th>Building_Type</th>\n",
       "      <th>Date_of_Occupancy</th>\n",
       "      <th>Claim</th>\n",
       "    </tr>\n",
       "  </thead>\n",
       "  <tbody>\n",
       "    <tr>\n",
       "      <th>YearOfObservation</th>\n",
       "      <td>1.000000</td>\n",
       "      <td>-0.512909</td>\n",
       "      <td>-0.044705</td>\n",
       "      <td>0.029800</td>\n",
       "      <td>0.008481</td>\n",
       "      <td>-0.002968</td>\n",
       "      <td>-0.007811</td>\n",
       "    </tr>\n",
       "    <tr>\n",
       "      <th>Insured_Period</th>\n",
       "      <td>-0.512909</td>\n",
       "      <td>1.000000</td>\n",
       "      <td>0.027067</td>\n",
       "      <td>-0.029293</td>\n",
       "      <td>0.008863</td>\n",
       "      <td>0.014327</td>\n",
       "      <td>0.011883</td>\n",
       "    </tr>\n",
       "    <tr>\n",
       "      <th>Residential</th>\n",
       "      <td>-0.044705</td>\n",
       "      <td>0.027067</td>\n",
       "      <td>1.000000</td>\n",
       "      <td>0.003825</td>\n",
       "      <td>0.338767</td>\n",
       "      <td>-0.075446</td>\n",
       "      <td>0.062622</td>\n",
       "    </tr>\n",
       "    <tr>\n",
       "      <th>Building Dimension</th>\n",
       "      <td>0.029800</td>\n",
       "      <td>-0.029293</td>\n",
       "      <td>0.003825</td>\n",
       "      <td>1.000000</td>\n",
       "      <td>-0.038827</td>\n",
       "      <td>0.274446</td>\n",
       "      <td>0.247854</td>\n",
       "    </tr>\n",
       "    <tr>\n",
       "      <th>Building_Type</th>\n",
       "      <td>0.008481</td>\n",
       "      <td>0.008863</td>\n",
       "      <td>0.338767</td>\n",
       "      <td>-0.038827</td>\n",
       "      <td>1.000000</td>\n",
       "      <td>-0.199139</td>\n",
       "      <td>0.109936</td>\n",
       "    </tr>\n",
       "    <tr>\n",
       "      <th>Date_of_Occupancy</th>\n",
       "      <td>-0.002968</td>\n",
       "      <td>0.014327</td>\n",
       "      <td>-0.075446</td>\n",
       "      <td>0.274446</td>\n",
       "      <td>-0.199139</td>\n",
       "      <td>1.000000</td>\n",
       "      <td>0.009088</td>\n",
       "    </tr>\n",
       "    <tr>\n",
       "      <th>Claim</th>\n",
       "      <td>-0.007811</td>\n",
       "      <td>0.011883</td>\n",
       "      <td>0.062622</td>\n",
       "      <td>0.247854</td>\n",
       "      <td>0.109936</td>\n",
       "      <td>0.009088</td>\n",
       "      <td>1.000000</td>\n",
       "    </tr>\n",
       "  </tbody>\n",
       "</table>\n",
       "</div>"
      ],
      "text/plain": [
       "                    YearOfObservation  Insured_Period  Residential  \\\n",
       "YearOfObservation            1.000000       -0.512909    -0.044705   \n",
       "Insured_Period              -0.512909        1.000000     0.027067   \n",
       "Residential                 -0.044705        0.027067     1.000000   \n",
       "Building Dimension           0.029800       -0.029293     0.003825   \n",
       "Building_Type                0.008481        0.008863     0.338767   \n",
       "Date_of_Occupancy           -0.002968        0.014327    -0.075446   \n",
       "Claim                       -0.007811        0.011883     0.062622   \n",
       "\n",
       "                    Building Dimension  Building_Type  Date_of_Occupancy  \\\n",
       "YearOfObservation             0.029800       0.008481          -0.002968   \n",
       "Insured_Period               -0.029293       0.008863           0.014327   \n",
       "Residential                   0.003825       0.338767          -0.075446   \n",
       "Building Dimension            1.000000      -0.038827           0.274446   \n",
       "Building_Type                -0.038827       1.000000          -0.199139   \n",
       "Date_of_Occupancy             0.274446      -0.199139           1.000000   \n",
       "Claim                         0.247854       0.109936           0.009088   \n",
       "\n",
       "                       Claim  \n",
       "YearOfObservation  -0.007811  \n",
       "Insured_Period      0.011883  \n",
       "Residential         0.062622  \n",
       "Building Dimension  0.247854  \n",
       "Building_Type       0.109936  \n",
       "Date_of_Occupancy   0.009088  \n",
       "Claim               1.000000  "
      ]
     },
     "execution_count": 33,
     "metadata": {},
     "output_type": "execute_result"
    }
   ],
   "source": [
    "corr =  df_num_features.corr()\n",
    "corr"
   ]
  },
  {
   "cell_type": "code",
   "execution_count": 34,
   "id": "f69c34e0",
   "metadata": {},
   "outputs": [
    {
     "data": {
      "image/png": "[encoded data removed]",
      "text/plain": [
       "<Figure size 1080x576 with 2 Axes>"
      ]
     },
     "metadata": {
      "needs_background": "light"
     },
     "output_type": "display_data"
    }
   ],
   "source": [
    "plt.figure(figsize=(15, 8))\n",
    "sns.heatmap(corr, cmap='YlGnBu', vmax=1.0, vmin=-1.0, annot = True, annot_kws={\"size\": 15})\n",
    "plt.title('Correlation between numeric features')\n",
    "plt.show()"
   ]
  },
  {
   "cell_type": "markdown",
   "id": "f919b2f9",
   "metadata": {},
   "source": [
    "### label encoding"
   ]
  },
  {
   "cell_type": "code",
   "execution_count": 35,
   "id": "e3774434",
   "metadata": {},
   "outputs": [
    {
     "name": "stdout",
     "output_type": "stream",
     "text": [
      "<class 'pandas.core.frame.DataFrame'>\n",
      "Int64Index: 4753 entries, 0 to 7159\n",
      "Data columns (total 14 columns):\n",
      " #   Column              Non-Null Count  Dtype  \n",
      "---  ------              --------------  -----  \n",
      " 0   Customer Id         4753 non-null   object \n",
      " 1   YearOfObservation   4753 non-null   int64  \n",
      " 2   Insured_Period      4753 non-null   float64\n",
      " 3   Residential         4753 non-null   int64  \n",
      " 4   Building_Painted    4753 non-null   object \n",
      " 5   Building_Fenced     4753 non-null   object \n",
      " 6   Garden              4753 non-null   object \n",
      " 7   Settlement          4753 non-null   object \n",
      " 8   Building Dimension  4753 non-null   float64\n",
      " 9   Building_Type       4753 non-null   int64  \n",
      " 10  Date_of_Occupancy   4753 non-null   float64\n",
      " 11  NumberOfWindows     4753 non-null   object \n",
      " 12  Geo_Code            4753 non-null   object \n",
      " 13  Claim               4753 non-null   int64  \n",
      "dtypes: float64(3), int64(4), object(7)\n",
      "memory usage: 557.0+ KB\n"
     ]
    }
   ],
   "source": [
    "df_train.info()"
   ]
  },
  {
   "cell_type": "code",
   "execution_count": 36,
   "id": "6dbd23fa",
   "metadata": {},
   "outputs": [],
   "source": [
    "#Encoding of categorical variables We use Label Encoder\n",
    "df_train['Building_Painted'] = df_train['Building_Painted'].replace(['N', 'V'],[1,0])\n",
    "df_train['Building_Fenced'] = df_train['Building_Fenced'].replace(['N', 'V'],[1,0])\n",
    "df_train['Garden'] = df_train['Garden'].replace(['V','O'],[1,0])\n",
    "df_train['Settlement'] = df_train['Settlement'].replace(['R','U'],[0,1])\n",
    "df_train['Building_Type'] = df_train['Building_Type'].replace([1,2,3,4],[0,1,2,3])"
   ]
  },
  {
   "cell_type": "code",
   "execution_count": 37,
   "id": "5998e9b9",
   "metadata": {},
   "outputs": [
    {
     "data": {
      "text/html": [
       "<div>\n",
       "<style scoped>\n",
       "    .dataframe tbody tr th:only-of-type {\n",
       "        vertical-align: middle;\n",
       "    }\n",
       "\n",
       "    .dataframe tbody tr th {\n",
       "        vertical-align: top;\n",
       "    }\n",
       "\n",
       "    .dataframe thead th {\n",
       "        text-align: right;\n",
       "    }\n",
       "</style>\n",
       "<table border=\"1\" class=\"dataframe\">\n",
       "  <thead>\n",
       "    <tr style=\"text-align: right;\">\n",
       "      <th></th>\n",
       "      <th>Customer Id</th>\n",
       "      <th>YearOfObservation</th>\n",
       "      <th>Insured_Period</th>\n",
       "      <th>Residential</th>\n",
       "      <th>Building_Painted</th>\n",
       "      <th>Building_Fenced</th>\n",
       "      <th>Garden</th>\n",
       "      <th>Settlement</th>\n",
       "      <th>Building Dimension</th>\n",
       "      <th>Building_Type</th>\n",
       "      <th>Date_of_Occupancy</th>\n",
       "      <th>NumberOfWindows</th>\n",
       "      <th>Geo_Code</th>\n",
       "      <th>Claim</th>\n",
       "    </tr>\n",
       "  </thead>\n",
       "  <tbody>\n",
       "    <tr>\n",
       "      <th>0</th>\n",
       "      <td>H14663</td>\n",
       "      <td>2013</td>\n",
       "      <td>1.0</td>\n",
       "      <td>0</td>\n",
       "      <td>1</td>\n",
       "      <td>0</td>\n",
       "      <td>1</td>\n",
       "      <td>1</td>\n",
       "      <td>290.0</td>\n",
       "      <td>0</td>\n",
       "      <td>1960.0</td>\n",
       "      <td>.</td>\n",
       "      <td>1053</td>\n",
       "      <td>0</td>\n",
       "    </tr>\n",
       "    <tr>\n",
       "      <th>2</th>\n",
       "      <td>H3802</td>\n",
       "      <td>2014</td>\n",
       "      <td>1.0</td>\n",
       "      <td>0</td>\n",
       "      <td>1</td>\n",
       "      <td>0</td>\n",
       "      <td>1</td>\n",
       "      <td>1</td>\n",
       "      <td>595.0</td>\n",
       "      <td>0</td>\n",
       "      <td>1960.0</td>\n",
       "      <td>.</td>\n",
       "      <td>1053</td>\n",
       "      <td>0</td>\n",
       "    </tr>\n",
       "    <tr>\n",
       "      <th>3</th>\n",
       "      <td>H3834</td>\n",
       "      <td>2013</td>\n",
       "      <td>1.0</td>\n",
       "      <td>0</td>\n",
       "      <td>0</td>\n",
       "      <td>0</td>\n",
       "      <td>1</td>\n",
       "      <td>1</td>\n",
       "      <td>2840.0</td>\n",
       "      <td>0</td>\n",
       "      <td>1960.0</td>\n",
       "      <td>.</td>\n",
       "      <td>1053</td>\n",
       "      <td>0</td>\n",
       "    </tr>\n",
       "    <tr>\n",
       "      <th>5</th>\n",
       "      <td>H4977</td>\n",
       "      <td>2012</td>\n",
       "      <td>1.0</td>\n",
       "      <td>0</td>\n",
       "      <td>0</td>\n",
       "      <td>1</td>\n",
       "      <td>0</td>\n",
       "      <td>0</td>\n",
       "      <td>535.0</td>\n",
       "      <td>0</td>\n",
       "      <td>1980.0</td>\n",
       "      <td>3</td>\n",
       "      <td>1143</td>\n",
       "      <td>0</td>\n",
       "    </tr>\n",
       "    <tr>\n",
       "      <th>6</th>\n",
       "      <td>H7390</td>\n",
       "      <td>2012</td>\n",
       "      <td>1.0</td>\n",
       "      <td>0</td>\n",
       "      <td>1</td>\n",
       "      <td>0</td>\n",
       "      <td>1</td>\n",
       "      <td>1</td>\n",
       "      <td>2830.0</td>\n",
       "      <td>0</td>\n",
       "      <td>1988.0</td>\n",
       "      <td>.</td>\n",
       "      <td>1143</td>\n",
       "      <td>0</td>\n",
       "    </tr>\n",
       "  </tbody>\n",
       "</table>\n",
       "</div>"
      ],
      "text/plain": [
       "  Customer Id  YearOfObservation  Insured_Period  Residential  \\\n",
       "0      H14663               2013             1.0            0   \n",
       "2       H3802               2014             1.0            0   \n",
       "3       H3834               2013             1.0            0   \n",
       "5       H4977               2012             1.0            0   \n",
       "6       H7390               2012             1.0            0   \n",
       "\n",
       "   Building_Painted  Building_Fenced  Garden  Settlement  Building Dimension  \\\n",
       "0                 1                0       1           1               290.0   \n",
       "2                 1                0       1           1               595.0   \n",
       "3                 0                0       1           1              2840.0   \n",
       "5                 0                1       0           0               535.0   \n",
       "6                 1                0       1           1              2830.0   \n",
       "\n",
       "   Building_Type  Date_of_Occupancy NumberOfWindows Geo_Code  Claim  \n",
       "0              0             1960.0               .     1053      0  \n",
       "2              0             1960.0               .     1053      0  \n",
       "3              0             1960.0               .     1053      0  \n",
       "5              0             1980.0               3     1143      0  \n",
       "6              0             1988.0               .     1143      0  "
      ]
     },
     "execution_count": 37,
     "metadata": {},
     "output_type": "execute_result"
    }
   ],
   "source": [
    "df_train.head()"
   ]
  },
  {
   "cell_type": "code",
   "execution_count": 38,
   "id": "54dcd6bb",
   "metadata": {},
   "outputs": [],
   "source": [
    "df_train['NumberOfWindows'] = df_train['NumberOfWindows'].replace(['   .','>=10'],['', 10])"
   ]
  },
  {
   "cell_type": "code",
   "execution_count": 39,
   "id": "4ea038d7",
   "metadata": {},
   "outputs": [
    {
     "data": {
      "text/html": [
       "<div>\n",
       "<style scoped>\n",
       "    .dataframe tbody tr th:only-of-type {\n",
       "        vertical-align: middle;\n",
       "    }\n",
       "\n",
       "    .dataframe tbody tr th {\n",
       "        vertical-align: top;\n",
       "    }\n",
       "\n",
       "    .dataframe thead th {\n",
       "        text-align: right;\n",
       "    }\n",
       "</style>\n",
       "<table border=\"1\" class=\"dataframe\">\n",
       "  <thead>\n",
       "    <tr style=\"text-align: right;\">\n",
       "      <th></th>\n",
       "      <th>Customer Id</th>\n",
       "      <th>YearOfObservation</th>\n",
       "      <th>Insured_Period</th>\n",
       "      <th>Residential</th>\n",
       "      <th>Building_Painted</th>\n",
       "      <th>Building_Fenced</th>\n",
       "      <th>Garden</th>\n",
       "      <th>Settlement</th>\n",
       "      <th>Building Dimension</th>\n",
       "      <th>Building_Type</th>\n",
       "      <th>Date_of_Occupancy</th>\n",
       "      <th>NumberOfWindows</th>\n",
       "      <th>Geo_Code</th>\n",
       "      <th>Claim</th>\n",
       "    </tr>\n",
       "  </thead>\n",
       "  <tbody>\n",
       "    <tr>\n",
       "      <th>0</th>\n",
       "      <td>H14663</td>\n",
       "      <td>2013</td>\n",
       "      <td>1.0</td>\n",
       "      <td>0</td>\n",
       "      <td>1</td>\n",
       "      <td>0</td>\n",
       "      <td>1</td>\n",
       "      <td>1</td>\n",
       "      <td>290.0</td>\n",
       "      <td>0</td>\n",
       "      <td>1960.0</td>\n",
       "      <td></td>\n",
       "      <td>1053</td>\n",
       "      <td>0</td>\n",
       "    </tr>\n",
       "    <tr>\n",
       "      <th>2</th>\n",
       "      <td>H3802</td>\n",
       "      <td>2014</td>\n",
       "      <td>1.0</td>\n",
       "      <td>0</td>\n",
       "      <td>1</td>\n",
       "      <td>0</td>\n",
       "      <td>1</td>\n",
       "      <td>1</td>\n",
       "      <td>595.0</td>\n",
       "      <td>0</td>\n",
       "      <td>1960.0</td>\n",
       "      <td></td>\n",
       "      <td>1053</td>\n",
       "      <td>0</td>\n",
       "    </tr>\n",
       "    <tr>\n",
       "      <th>3</th>\n",
       "      <td>H3834</td>\n",
       "      <td>2013</td>\n",
       "      <td>1.0</td>\n",
       "      <td>0</td>\n",
       "      <td>0</td>\n",
       "      <td>0</td>\n",
       "      <td>1</td>\n",
       "      <td>1</td>\n",
       "      <td>2840.0</td>\n",
       "      <td>0</td>\n",
       "      <td>1960.0</td>\n",
       "      <td></td>\n",
       "      <td>1053</td>\n",
       "      <td>0</td>\n",
       "    </tr>\n",
       "    <tr>\n",
       "      <th>5</th>\n",
       "      <td>H4977</td>\n",
       "      <td>2012</td>\n",
       "      <td>1.0</td>\n",
       "      <td>0</td>\n",
       "      <td>0</td>\n",
       "      <td>1</td>\n",
       "      <td>0</td>\n",
       "      <td>0</td>\n",
       "      <td>535.0</td>\n",
       "      <td>0</td>\n",
       "      <td>1980.0</td>\n",
       "      <td>3</td>\n",
       "      <td>1143</td>\n",
       "      <td>0</td>\n",
       "    </tr>\n",
       "    <tr>\n",
       "      <th>6</th>\n",
       "      <td>H7390</td>\n",
       "      <td>2012</td>\n",
       "      <td>1.0</td>\n",
       "      <td>0</td>\n",
       "      <td>1</td>\n",
       "      <td>0</td>\n",
       "      <td>1</td>\n",
       "      <td>1</td>\n",
       "      <td>2830.0</td>\n",
       "      <td>0</td>\n",
       "      <td>1988.0</td>\n",
       "      <td></td>\n",
       "      <td>1143</td>\n",
       "      <td>0</td>\n",
       "    </tr>\n",
       "  </tbody>\n",
       "</table>\n",
       "</div>"
      ],
      "text/plain": [
       "  Customer Id  YearOfObservation  Insured_Period  Residential  \\\n",
       "0      H14663               2013             1.0            0   \n",
       "2       H3802               2014             1.0            0   \n",
       "3       H3834               2013             1.0            0   \n",
       "5       H4977               2012             1.0            0   \n",
       "6       H7390               2012             1.0            0   \n",
       "\n",
       "   Building_Painted  Building_Fenced  Garden  Settlement  Building Dimension  \\\n",
       "0                 1                0       1           1               290.0   \n",
       "2                 1                0       1           1               595.0   \n",
       "3                 0                0       1           1              2840.0   \n",
       "5                 0                1       0           0               535.0   \n",
       "6                 1                0       1           1              2830.0   \n",
       "\n",
       "   Building_Type  Date_of_Occupancy NumberOfWindows Geo_Code  Claim  \n",
       "0              0             1960.0                     1053      0  \n",
       "2              0             1960.0                     1053      0  \n",
       "3              0             1960.0                     1053      0  \n",
       "5              0             1980.0               3     1143      0  \n",
       "6              0             1988.0                     1143      0  "
      ]
     },
     "execution_count": 39,
     "metadata": {},
     "output_type": "execute_result"
    }
   ],
   "source": [
    "df_train.head()"
   ]
  },
  {
   "cell_type": "code",
   "execution_count": 40,
   "id": "92180984",
   "metadata": {},
   "outputs": [],
   "source": [
    "df_train1 = df_train"
   ]
  },
  {
   "cell_type": "code",
   "execution_count": 41,
   "id": "a6098647",
   "metadata": {},
   "outputs": [],
   "source": [
    "df_train['NumberOfWindows'] = df_train['NumberOfWindows'].replace(['1','2','3','4','5','6','7','8','9',10],[0,1,2,3,4,5,6,7,8,9])"
   ]
  },
  {
   "cell_type": "code",
   "execution_count": 42,
   "id": "7de1cc64",
   "metadata": {},
   "outputs": [
    {
     "data": {
      "text/html": [
       "<div>\n",
       "<style scoped>\n",
       "    .dataframe tbody tr th:only-of-type {\n",
       "        vertical-align: middle;\n",
       "    }\n",
       "\n",
       "    .dataframe tbody tr th {\n",
       "        vertical-align: top;\n",
       "    }\n",
       "\n",
       "    .dataframe thead th {\n",
       "        text-align: right;\n",
       "    }\n",
       "</style>\n",
       "<table border=\"1\" class=\"dataframe\">\n",
       "  <thead>\n",
       "    <tr style=\"text-align: right;\">\n",
       "      <th></th>\n",
       "      <th>Customer Id</th>\n",
       "      <th>YearOfObservation</th>\n",
       "      <th>Insured_Period</th>\n",
       "      <th>Residential</th>\n",
       "      <th>Building_Painted</th>\n",
       "      <th>Building_Fenced</th>\n",
       "      <th>Garden</th>\n",
       "      <th>Settlement</th>\n",
       "      <th>Building Dimension</th>\n",
       "      <th>Building_Type</th>\n",
       "      <th>Date_of_Occupancy</th>\n",
       "      <th>NumberOfWindows</th>\n",
       "      <th>Geo_Code</th>\n",
       "      <th>Claim</th>\n",
       "    </tr>\n",
       "  </thead>\n",
       "  <tbody>\n",
       "    <tr>\n",
       "      <th>0</th>\n",
       "      <td>H14663</td>\n",
       "      <td>2013</td>\n",
       "      <td>1.0</td>\n",
       "      <td>0</td>\n",
       "      <td>1</td>\n",
       "      <td>0</td>\n",
       "      <td>1</td>\n",
       "      <td>1</td>\n",
       "      <td>290.0</td>\n",
       "      <td>0</td>\n",
       "      <td>1960.0</td>\n",
       "      <td></td>\n",
       "      <td>1053</td>\n",
       "      <td>0</td>\n",
       "    </tr>\n",
       "    <tr>\n",
       "      <th>2</th>\n",
       "      <td>H3802</td>\n",
       "      <td>2014</td>\n",
       "      <td>1.0</td>\n",
       "      <td>0</td>\n",
       "      <td>1</td>\n",
       "      <td>0</td>\n",
       "      <td>1</td>\n",
       "      <td>1</td>\n",
       "      <td>595.0</td>\n",
       "      <td>0</td>\n",
       "      <td>1960.0</td>\n",
       "      <td></td>\n",
       "      <td>1053</td>\n",
       "      <td>0</td>\n",
       "    </tr>\n",
       "    <tr>\n",
       "      <th>3</th>\n",
       "      <td>H3834</td>\n",
       "      <td>2013</td>\n",
       "      <td>1.0</td>\n",
       "      <td>0</td>\n",
       "      <td>0</td>\n",
       "      <td>0</td>\n",
       "      <td>1</td>\n",
       "      <td>1</td>\n",
       "      <td>2840.0</td>\n",
       "      <td>0</td>\n",
       "      <td>1960.0</td>\n",
       "      <td></td>\n",
       "      <td>1053</td>\n",
       "      <td>0</td>\n",
       "    </tr>\n",
       "    <tr>\n",
       "      <th>5</th>\n",
       "      <td>H4977</td>\n",
       "      <td>2012</td>\n",
       "      <td>1.0</td>\n",
       "      <td>0</td>\n",
       "      <td>0</td>\n",
       "      <td>1</td>\n",
       "      <td>0</td>\n",
       "      <td>0</td>\n",
       "      <td>535.0</td>\n",
       "      <td>0</td>\n",
       "      <td>1980.0</td>\n",
       "      <td>2</td>\n",
       "      <td>1143</td>\n",
       "      <td>0</td>\n",
       "    </tr>\n",
       "    <tr>\n",
       "      <th>6</th>\n",
       "      <td>H7390</td>\n",
       "      <td>2012</td>\n",
       "      <td>1.0</td>\n",
       "      <td>0</td>\n",
       "      <td>1</td>\n",
       "      <td>0</td>\n",
       "      <td>1</td>\n",
       "      <td>1</td>\n",
       "      <td>2830.0</td>\n",
       "      <td>0</td>\n",
       "      <td>1988.0</td>\n",
       "      <td></td>\n",
       "      <td>1143</td>\n",
       "      <td>0</td>\n",
       "    </tr>\n",
       "  </tbody>\n",
       "</table>\n",
       "</div>"
      ],
      "text/plain": [
       "  Customer Id  YearOfObservation  Insured_Period  Residential  \\\n",
       "0      H14663               2013             1.0            0   \n",
       "2       H3802               2014             1.0            0   \n",
       "3       H3834               2013             1.0            0   \n",
       "5       H4977               2012             1.0            0   \n",
       "6       H7390               2012             1.0            0   \n",
       "\n",
       "   Building_Painted  Building_Fenced  Garden  Settlement  Building Dimension  \\\n",
       "0                 1                0       1           1               290.0   \n",
       "2                 1                0       1           1               595.0   \n",
       "3                 0                0       1           1              2840.0   \n",
       "5                 0                1       0           0               535.0   \n",
       "6                 1                0       1           1              2830.0   \n",
       "\n",
       "   Building_Type  Date_of_Occupancy NumberOfWindows Geo_Code  Claim  \n",
       "0              0             1960.0                     1053      0  \n",
       "2              0             1960.0                     1053      0  \n",
       "3              0             1960.0                     1053      0  \n",
       "5              0             1980.0               2     1143      0  \n",
       "6              0             1988.0                     1143      0  "
      ]
     },
     "execution_count": 42,
     "metadata": {},
     "output_type": "execute_result"
    }
   ],
   "source": [
    "df_train.head()"
   ]
  },
  {
   "cell_type": "code",
   "execution_count": 43,
   "id": "41a2f590",
   "metadata": {},
   "outputs": [],
   "source": [
    "train_df_le = df_train"
   ]
  },
  {
   "cell_type": "code",
   "execution_count": 44,
   "id": "980ed49a",
   "metadata": {},
   "outputs": [],
   "source": [
    "#With One Hot Encoder and no removal of outliers\n",
    "train_df_he = train_df_copy.copy()"
   ]
  },
  {
   "cell_type": "code",
   "execution_count": 45,
   "id": "1d0a2062",
   "metadata": {},
   "outputs": [
    {
     "name": "stdout",
     "output_type": "stream",
     "text": [
      "<class 'pandas.core.frame.DataFrame'>\n",
      "RangeIndex: 7160 entries, 0 to 7159\n",
      "Data columns (total 14 columns):\n",
      " #   Column              Non-Null Count  Dtype  \n",
      "---  ------              --------------  -----  \n",
      " 0   Customer Id         7160 non-null   object \n",
      " 1   YearOfObservation   7160 non-null   int64  \n",
      " 2   Insured_Period      7160 non-null   float64\n",
      " 3   Residential         7160 non-null   int64  \n",
      " 4   Building_Painted    7160 non-null   object \n",
      " 5   Building_Fenced     7160 non-null   object \n",
      " 6   Garden              7160 non-null   object \n",
      " 7   Settlement          7160 non-null   object \n",
      " 8   Building Dimension  7160 non-null   float64\n",
      " 9   Building_Type       7160 non-null   int64  \n",
      " 10  Date_of_Occupancy   7160 non-null   float64\n",
      " 11  NumberOfWindows     7160 non-null   object \n",
      " 12  Geo_Code            7160 non-null   object \n",
      " 13  Claim               7160 non-null   int64  \n",
      "dtypes: float64(3), int64(4), object(7)\n",
      "memory usage: 783.2+ KB\n"
     ]
    }
   ],
   "source": [
    "train_df_copy.info()"
   ]
  },
  {
   "cell_type": "code",
   "execution_count": 46,
   "id": "e7e7189f",
   "metadata": {},
   "outputs": [
    {
     "data": {
      "text/plain": [
       "Customer Id           7160\n",
       "YearOfObservation        5\n",
       "Insured_Period         401\n",
       "Residential              2\n",
       "Building_Painted         2\n",
       "Building_Fenced          2\n",
       "Garden                   2\n",
       "Settlement               2\n",
       "Building Dimension    2043\n",
       "Building_Type            4\n",
       "Date_of_Occupancy      134\n",
       "NumberOfWindows         11\n",
       "Geo_Code              1307\n",
       "Claim                    2\n",
       "dtype: int64"
      ]
     },
     "execution_count": 46,
     "metadata": {},
     "output_type": "execute_result"
    }
   ],
   "source": [
    "train_df_he.nunique()"
   ]
  },
  {
   "cell_type": "code",
   "execution_count": null,
   "id": "558bc6e6",
   "metadata": {},
   "outputs": [],
   "source": []
  },
  {
   "cell_type": "code",
   "execution_count": 47,
   "id": "1a9a517b",
   "metadata": {},
   "outputs": [
    {
     "name": "stdout",
     "output_type": "stream",
     "text": [
      "<class 'pandas.core.frame.DataFrame'>\n",
      "Int64Index: 4753 entries, 0 to 7159\n",
      "Data columns (total 14 columns):\n",
      " #   Column              Non-Null Count  Dtype  \n",
      "---  ------              --------------  -----  \n",
      " 0   Customer Id         4753 non-null   object \n",
      " 1   YearOfObservation   4753 non-null   int64  \n",
      " 2   Insured_Period      4753 non-null   float64\n",
      " 3   Residential         4753 non-null   int64  \n",
      " 4   Building_Painted    4753 non-null   int64  \n",
      " 5   Building_Fenced     4753 non-null   int64  \n",
      " 6   Garden              4753 non-null   int64  \n",
      " 7   Settlement          4753 non-null   int64  \n",
      " 8   Building Dimension  4753 non-null   float64\n",
      " 9   Building_Type       4753 non-null   int64  \n",
      " 10  Date_of_Occupancy   4753 non-null   float64\n",
      " 11  NumberOfWindows     4753 non-null   object \n",
      " 12  Geo_Code            4753 non-null   object \n",
      " 13  Claim               4753 non-null   int64  \n",
      "dtypes: float64(3), int64(8), object(3)\n",
      "memory usage: 557.0+ KB\n"
     ]
    }
   ],
   "source": [
    "train_df_le.info()"
   ]
  },
  {
   "cell_type": "code",
   "execution_count": 48,
   "id": "46568bec",
   "metadata": {},
   "outputs": [],
   "source": [
    "train_df_le['NumberOfWindows'] = pd.to_numeric(train_df_le['NumberOfWindows'])"
   ]
  },
  {
   "cell_type": "code",
   "execution_count": 49,
   "id": "4d6ece69",
   "metadata": {},
   "outputs": [
    {
     "name": "stdout",
     "output_type": "stream",
     "text": [
      "<class 'pandas.core.frame.DataFrame'>\n",
      "Int64Index: 4753 entries, 0 to 7159\n",
      "Data columns (total 14 columns):\n",
      " #   Column              Non-Null Count  Dtype  \n",
      "---  ------              --------------  -----  \n",
      " 0   Customer Id         4753 non-null   object \n",
      " 1   YearOfObservation   4753 non-null   int64  \n",
      " 2   Insured_Period      4753 non-null   float64\n",
      " 3   Residential         4753 non-null   int64  \n",
      " 4   Building_Painted    4753 non-null   int64  \n",
      " 5   Building_Fenced     4753 non-null   int64  \n",
      " 6   Garden              4753 non-null   int64  \n",
      " 7   Settlement          4753 non-null   int64  \n",
      " 8   Building Dimension  4753 non-null   float64\n",
      " 9   Building_Type       4753 non-null   int64  \n",
      " 10  Date_of_Occupancy   4753 non-null   float64\n",
      " 11  NumberOfWindows     2018 non-null   float64\n",
      " 12  Geo_Code            4753 non-null   object \n",
      " 13  Claim               4753 non-null   int64  \n",
      "dtypes: float64(4), int64(8), object(2)\n",
      "memory usage: 557.0+ KB\n"
     ]
    }
   ],
   "source": [
    "train_df_le.info()"
   ]
  },
  {
   "cell_type": "code",
   "execution_count": 50,
   "id": "4f335ee2",
   "metadata": {},
   "outputs": [],
   "source": [
    "train_df_le_trial = train_df_le.drop(train_df_le[train_df_le.Geo_Code.str.contains(r'[A-Z]')].index)"
   ]
  },
  {
   "cell_type": "code",
   "execution_count": 51,
   "id": "ee70cd82",
   "metadata": {},
   "outputs": [
    {
     "data": {
      "text/plain": [
       "(4753, 14)"
      ]
     },
     "execution_count": 51,
     "metadata": {},
     "output_type": "execute_result"
    }
   ],
   "source": [
    "train_df_le.shape"
   ]
  },
  {
   "cell_type": "code",
   "execution_count": 52,
   "id": "0b637006",
   "metadata": {},
   "outputs": [
    {
     "data": {
      "text/plain": [
       "(4710, 14)"
      ]
     },
     "execution_count": 52,
     "metadata": {},
     "output_type": "execute_result"
    }
   ],
   "source": [
    "train_df_le_trial.shape"
   ]
  },
  {
   "cell_type": "code",
   "execution_count": 53,
   "id": "d43320cb",
   "metadata": {},
   "outputs": [
    {
     "name": "stdout",
     "output_type": "stream",
     "text": [
      "<class 'pandas.core.frame.DataFrame'>\n",
      "Int64Index: 4710 entries, 0 to 7159\n",
      "Data columns (total 14 columns):\n",
      " #   Column              Non-Null Count  Dtype  \n",
      "---  ------              --------------  -----  \n",
      " 0   Customer Id         4710 non-null   object \n",
      " 1   YearOfObservation   4710 non-null   int64  \n",
      " 2   Insured_Period      4710 non-null   float64\n",
      " 3   Residential         4710 non-null   int64  \n",
      " 4   Building_Painted    4710 non-null   int64  \n",
      " 5   Building_Fenced     4710 non-null   int64  \n",
      " 6   Garden              4710 non-null   int64  \n",
      " 7   Settlement          4710 non-null   int64  \n",
      " 8   Building Dimension  4710 non-null   float64\n",
      " 9   Building_Type       4710 non-null   int64  \n",
      " 10  Date_of_Occupancy   4710 non-null   float64\n",
      " 11  NumberOfWindows     1986 non-null   float64\n",
      " 12  Geo_Code            4710 non-null   object \n",
      " 13  Claim               4710 non-null   int64  \n",
      "dtypes: float64(4), int64(8), object(2)\n",
      "memory usage: 552.0+ KB\n"
     ]
    }
   ],
   "source": [
    "train_df_le_trial.info()"
   ]
  },
  {
   "cell_type": "code",
   "execution_count": 54,
   "id": "c1d5f0e6",
   "metadata": {},
   "outputs": [],
   "source": [
    "train_df_le['Geo_code'] = pd.to_numeric(train_df_le_trial['Geo_Code'])"
   ]
  },
  {
   "cell_type": "code",
   "execution_count": 55,
   "id": "1d19c23d",
   "metadata": {},
   "outputs": [
    {
     "data": {
      "text/plain": [
       "Customer Id              0\n",
       "YearOfObservation        0\n",
       "Insured_Period           0\n",
       "Residential              0\n",
       "Building_Painted         0\n",
       "Building_Fenced          0\n",
       "Garden                   0\n",
       "Settlement               0\n",
       "Building Dimension       0\n",
       "Building_Type            0\n",
       "Date_of_Occupancy        0\n",
       "NumberOfWindows       2724\n",
       "Geo_Code                 0\n",
       "Claim                    0\n",
       "dtype: int64"
      ]
     },
     "execution_count": 55,
     "metadata": {},
     "output_type": "execute_result"
    }
   ],
   "source": [
    "train_df_le_trial.isnull().sum()"
   ]
  },
  {
   "cell_type": "code",
   "execution_count": 56,
   "id": "a7a80253",
   "metadata": {},
   "outputs": [],
   "source": [
    "#Since number of windows has almost half plus missing values we drop it as replacing with mode would introduce a bias\n",
    "train_df_le = train_df_le_trial\n",
    "train_df_le = train_df_le.drop(columns = ['Customer Id','NumberOfWindows'])"
   ]
  },
  {
   "cell_type": "code",
   "execution_count": 57,
   "id": "68ddfb2e",
   "metadata": {},
   "outputs": [
    {
     "data": {
      "text/html": [
       "<div>\n",
       "<style scoped>\n",
       "    .dataframe tbody tr th:only-of-type {\n",
       "        vertical-align: middle;\n",
       "    }\n",
       "\n",
       "    .dataframe tbody tr th {\n",
       "        vertical-align: top;\n",
       "    }\n",
       "\n",
       "    .dataframe thead th {\n",
       "        text-align: right;\n",
       "    }\n",
       "</style>\n",
       "<table border=\"1\" class=\"dataframe\">\n",
       "  <thead>\n",
       "    <tr style=\"text-align: right;\">\n",
       "      <th></th>\n",
       "      <th>YearOfObservation</th>\n",
       "      <th>Insured_Period</th>\n",
       "      <th>Residential</th>\n",
       "      <th>Building_Painted</th>\n",
       "      <th>Building_Fenced</th>\n",
       "      <th>Garden</th>\n",
       "      <th>Settlement</th>\n",
       "      <th>Building Dimension</th>\n",
       "      <th>Building_Type</th>\n",
       "      <th>Date_of_Occupancy</th>\n",
       "      <th>Geo_Code</th>\n",
       "      <th>Claim</th>\n",
       "    </tr>\n",
       "  </thead>\n",
       "  <tbody>\n",
       "    <tr>\n",
       "      <th>0</th>\n",
       "      <td>2013</td>\n",
       "      <td>1.0</td>\n",
       "      <td>0</td>\n",
       "      <td>1</td>\n",
       "      <td>0</td>\n",
       "      <td>1</td>\n",
       "      <td>1</td>\n",
       "      <td>290.0</td>\n",
       "      <td>0</td>\n",
       "      <td>1960.0</td>\n",
       "      <td>1053</td>\n",
       "      <td>0</td>\n",
       "    </tr>\n",
       "    <tr>\n",
       "      <th>2</th>\n",
       "      <td>2014</td>\n",
       "      <td>1.0</td>\n",
       "      <td>0</td>\n",
       "      <td>1</td>\n",
       "      <td>0</td>\n",
       "      <td>1</td>\n",
       "      <td>1</td>\n",
       "      <td>595.0</td>\n",
       "      <td>0</td>\n",
       "      <td>1960.0</td>\n",
       "      <td>1053</td>\n",
       "      <td>0</td>\n",
       "    </tr>\n",
       "    <tr>\n",
       "      <th>3</th>\n",
       "      <td>2013</td>\n",
       "      <td>1.0</td>\n",
       "      <td>0</td>\n",
       "      <td>0</td>\n",
       "      <td>0</td>\n",
       "      <td>1</td>\n",
       "      <td>1</td>\n",
       "      <td>2840.0</td>\n",
       "      <td>0</td>\n",
       "      <td>1960.0</td>\n",
       "      <td>1053</td>\n",
       "      <td>0</td>\n",
       "    </tr>\n",
       "    <tr>\n",
       "      <th>5</th>\n",
       "      <td>2012</td>\n",
       "      <td>1.0</td>\n",
       "      <td>0</td>\n",
       "      <td>0</td>\n",
       "      <td>1</td>\n",
       "      <td>0</td>\n",
       "      <td>0</td>\n",
       "      <td>535.0</td>\n",
       "      <td>0</td>\n",
       "      <td>1980.0</td>\n",
       "      <td>1143</td>\n",
       "      <td>0</td>\n",
       "    </tr>\n",
       "    <tr>\n",
       "      <th>6</th>\n",
       "      <td>2012</td>\n",
       "      <td>1.0</td>\n",
       "      <td>0</td>\n",
       "      <td>1</td>\n",
       "      <td>0</td>\n",
       "      <td>1</td>\n",
       "      <td>1</td>\n",
       "      <td>2830.0</td>\n",
       "      <td>0</td>\n",
       "      <td>1988.0</td>\n",
       "      <td>1143</td>\n",
       "      <td>0</td>\n",
       "    </tr>\n",
       "  </tbody>\n",
       "</table>\n",
       "</div>"
      ],
      "text/plain": [
       "   YearOfObservation  Insured_Period  Residential  Building_Painted  \\\n",
       "0               2013             1.0            0                 1   \n",
       "2               2014             1.0            0                 1   \n",
       "3               2013             1.0            0                 0   \n",
       "5               2012             1.0            0                 0   \n",
       "6               2012             1.0            0                 1   \n",
       "\n",
       "   Building_Fenced  Garden  Settlement  Building Dimension  Building_Type  \\\n",
       "0                0       1           1               290.0              0   \n",
       "2                0       1           1               595.0              0   \n",
       "3                0       1           1              2840.0              0   \n",
       "5                1       0           0               535.0              0   \n",
       "6                0       1           1              2830.0              0   \n",
       "\n",
       "   Date_of_Occupancy Geo_Code  Claim  \n",
       "0             1960.0     1053      0  \n",
       "2             1960.0     1053      0  \n",
       "3             1960.0     1053      0  \n",
       "5             1980.0     1143      0  \n",
       "6             1988.0     1143      0  "
      ]
     },
     "execution_count": 57,
     "metadata": {},
     "output_type": "execute_result"
    }
   ],
   "source": [
    "train_df_le.head()"
   ]
  },
  {
   "cell_type": "markdown",
   "id": "efafc176",
   "metadata": {},
   "source": [
    "# Modelling with label encoding"
   ]
  },
  {
   "cell_type": "code",
   "execution_count": 58,
   "id": "c2ff4cc4",
   "metadata": {},
   "outputs": [],
   "source": [
    "#Creating features and labels and converting the data to arrays for the data done using label encoding\n",
    "#Labels that we want to predict\n",
    "labels_y = np.array(train_df_le['Claim'])\n",
    "\n",
    "#Create the features by dropping the label\n",
    "features_x = train_df_le.drop('Claim', axis=1)\n",
    "\n",
    "#Save feature names for later use\n",
    "feature_list_x = list(features_x.columns)\n",
    "\n",
    "#Convert to numpy arrays\n",
    "features_x = np.array(features_x)"
   ]
  },
  {
   "cell_type": "markdown",
   "id": "a4135d83",
   "metadata": {},
   "source": [
    "## By Using Cross Validation"
   ]
  },
  {
   "cell_type": "code",
   "execution_count": 59,
   "id": "3e5cc106",
   "metadata": {},
   "outputs": [
    {
     "name": "stdout",
     "output_type": "stream",
     "text": [
      "Fold:1, Train set: 3768, Validation set:942\n",
      "Fold:2, Train set: 3768, Validation set:942\n",
      "Fold:3, Train set: 3768, Validation set:942\n",
      "Fold:4, Train set: 3768, Validation set:942\n",
      "Fold:5, Train set: 3768, Validation set:942\n"
     ]
    }
   ],
   "source": [
    "#By using cross KFold validation purposes\n",
    "from sklearn.model_selection import cross_val_score, KFold\n",
    "\n",
    "kf = KFold(n_splits=5, shuffle=True, random_state=42)\n",
    "\n",
    "count = 1\n",
    "\n",
    "#we use split method that will generate indices to split data into train and test sets\n",
    "\n",
    "for train_index, test_index in kf.split(features_x,labels_y):\n",
    "    print(f'Fold:{count}, Train set: {len(train_index)}, Validation set:{len(test_index)}')\n",
    "    count+=1"
   ]
  },
  {
   "cell_type": "code",
   "execution_count": 60,
   "id": "d7a4cd9e",
   "metadata": {},
   "outputs": [
    {
     "name": "stdout",
     "output_type": "stream",
     "text": [
      "Scores for each fold are: [0.68471338 0.66029724 0.69214437 0.6985138  0.69745223]\n",
      "Average score: 0.69\n"
     ]
    }
   ],
   "source": [
    "#By using DecisionTreeClassifier\n",
    "from sklearn.tree import DecisionTreeClassifier\n",
    "\n",
    "dtc = DecisionTreeClassifier(random_state= 0)\n",
    "score = cross_val_score(dtc, features_x, labels_y, cv=kf, scoring=\"accuracy\")\n",
    "print(f'Scores for each fold are: {score}')\n",
    "print(f'Average score: {\"{:.2f}\".format(score.mean())}')"
   ]
  },
  {
   "cell_type": "code",
   "execution_count": 61,
   "id": "bcad8055",
   "metadata": {},
   "outputs": [
    {
     "name": "stdout",
     "output_type": "stream",
     "text": [
      "Scores for each fold are: [0.78131635 0.75053079 0.77176221 0.77494692 0.78874735]\n",
      "Average score: 0.77\n"
     ]
    }
   ],
   "source": [
    "#By using RandomForestClassifier\n",
    "from sklearn.ensemble import RandomForestClassifier\n",
    "\n",
    "rfc = RandomForestClassifier(random_state= 42)\n",
    "score = cross_val_score(rfc, features_x, labels_y, cv=kf, scoring=\"accuracy\")\n",
    "print(f'Scores for each fold are: {score}')\n",
    "print(f'Average score: {\"{:.2f}\".format(score.mean())}')"
   ]
  },
  {
   "cell_type": "markdown",
   "id": "d7480b96",
   "metadata": {},
   "source": [
    "## Choosing the Best Model using Grid Search Cross validation"
   ]
  },
  {
   "cell_type": "raw",
   "id": "0f86bf62",
   "metadata": {},
   "source": [
    "For integer/None inputs, if the estimator is a classifier and y is either binary or multiclass, StratifiedKFold is used. In all other cases, KFold is used. These splitters are instantiated with shuffle=False so the splits will be the same across calls."
   ]
  },
  {
   "cell_type": "code",
   "execution_count": 62,
   "id": "1e0a2c9f",
   "metadata": {},
   "outputs": [],
   "source": [
    "#Creating the train and test sets of the new data set using scikit-learn\n",
    "from sklearn.model_selection import train_test_split\n",
    "train_X, test_x, train_Y, test_y = train_test_split(features_x, labels_y, test_size = 0.2, random_state = 42)"
   ]
  },
  {
   "cell_type": "code",
   "execution_count": 63,
   "id": "70d59030",
   "metadata": {},
   "outputs": [],
   "source": [
    "#Getting the best model\n",
    "#The Gradient Boost Classifier\n",
    "from sklearn.ensemble import GradientBoostingClassifier\n",
    "from sklearn.model_selection import GridSearchCV\n",
    "\n",
    "model = GradientBoostingClassifier(random_state=1)\n",
    "space = dict()\n",
    "space['n_estimators'] = [10, 100, 500]\n",
    "space['max_features'] = [2, 4, 6]\n",
    "search = GridSearchCV(model, space, scoring='accuracy', cv = kf, refit=True)\n",
    "result = search.fit(train_X, train_Y)"
   ]
  },
  {
   "cell_type": "code",
   "execution_count": 64,
   "id": "633f2f38",
   "metadata": {},
   "outputs": [],
   "source": [
    "best_model = result.best_estimator_"
   ]
  },
  {
   "cell_type": "code",
   "execution_count": 65,
   "id": "a4132d2a",
   "metadata": {},
   "outputs": [],
   "source": [
    "#Evaluate the model on the hold out dataset\n",
    "yhat = best_model.predict(test_x)"
   ]
  },
  {
   "cell_type": "code",
   "execution_count": 66,
   "id": "79a74119",
   "metadata": {},
   "outputs": [
    {
     "name": "stdout",
     "output_type": "stream",
     "text": [
      "Best Model Accuracy: 0.794\n"
     ]
    }
   ],
   "source": [
    "# Accuracy score\n",
    "from sklearn.metrics import accuracy_score\n",
    "acc = accuracy_score(test_y, yhat)\n",
    "print(f'Best Model Accuracy: {\"{:.3f}\".format(acc)}')"
   ]
  },
  {
   "cell_type": "code",
   "execution_count": null,
   "id": "8cd7d6b7",
   "metadata": {},
   "outputs": [],
   "source": []
  },
  {
   "cell_type": "markdown",
   "id": "b36464b2",
   "metadata": {},
   "source": [
    "# Predicting the Test Data using the best Model"
   ]
  },
  {
   "cell_type": "code",
   "execution_count": 67,
   "id": "242d5ea5",
   "metadata": {},
   "outputs": [
    {
     "name": "stdout",
     "output_type": "stream",
     "text": [
      "<class 'pandas.core.frame.DataFrame'>\n",
      "RangeIndex: 3069 entries, 0 to 3068\n",
      "Data columns (total 13 columns):\n",
      " #   Column              Non-Null Count  Dtype  \n",
      "---  ------              --------------  -----  \n",
      " 0   Customer Id         3069 non-null   object \n",
      " 1   YearOfObservation   3069 non-null   int64  \n",
      " 2   Insured_Period      3069 non-null   float64\n",
      " 3   Residential         3069 non-null   int64  \n",
      " 4   Building_Painted    3069 non-null   object \n",
      " 5   Building_Fenced     3069 non-null   object \n",
      " 6   Garden              3065 non-null   object \n",
      " 7   Settlement          3069 non-null   object \n",
      " 8   Building Dimension  3056 non-null   float64\n",
      " 9   Building_Type       3069 non-null   int64  \n",
      " 10  Date_of_Occupancy   2341 non-null   float64\n",
      " 11  NumberOfWindows     3069 non-null   object \n",
      " 12  Geo_Code            3056 non-null   object \n",
      "dtypes: float64(3), int64(3), object(7)\n",
      "memory usage: 311.8+ KB\n"
     ]
    }
   ],
   "source": [
    "df_test.info()"
   ]
  },
  {
   "cell_type": "code",
   "execution_count": 68,
   "id": "e20654b4",
   "metadata": {},
   "outputs": [
    {
     "data": {
      "text/plain": [
       "Customer Id             0\n",
       "YearOfObservation       0\n",
       "Insured_Period          0\n",
       "Residential             0\n",
       "Building_Painted        0\n",
       "Building_Fenced         0\n",
       "Garden                  4\n",
       "Settlement              0\n",
       "Building Dimension     13\n",
       "Building_Type           0\n",
       "Date_of_Occupancy     728\n",
       "NumberOfWindows         0\n",
       "Geo_Code               13\n",
       "dtype: int64"
      ]
     },
     "execution_count": 68,
     "metadata": {},
     "output_type": "execute_result"
    }
   ],
   "source": [
    "df_test.isnull().sum()"
   ]
  },
  {
   "cell_type": "code",
   "execution_count": 69,
   "id": "555bba62",
   "metadata": {},
   "outputs": [],
   "source": [
    "new_test_df = df_test[df_test['Date_of_Occupancy'].notna()]"
   ]
  },
  {
   "cell_type": "code",
   "execution_count": 70,
   "id": "2cdfe727",
   "metadata": {},
   "outputs": [
    {
     "data": {
      "text/plain": [
       "Customer Id            0\n",
       "YearOfObservation      0\n",
       "Insured_Period         0\n",
       "Residential            0\n",
       "Building_Painted       0\n",
       "Building_Fenced        0\n",
       "Garden                 4\n",
       "Settlement             0\n",
       "Building Dimension    13\n",
       "Building_Type          0\n",
       "Date_of_Occupancy      0\n",
       "NumberOfWindows        0\n",
       "Geo_Code              13\n",
       "dtype: int64"
      ]
     },
     "execution_count": 70,
     "metadata": {},
     "output_type": "execute_result"
    }
   ],
   "source": [
    "new_test_df.isnull().sum()"
   ]
  },
  {
   "cell_type": "code",
   "execution_count": 71,
   "id": "e7334e27",
   "metadata": {},
   "outputs": [],
   "source": [
    "#We drop missing values for date of occupancy [Quite many]\n",
    "#Replace Building Dimension NAN with median\n",
    "new_test_df['Building Dimension'] = new_test_df['Building Dimension'].fillna(new_test_df['Building Dimension'].median())\n",
    "#Replace categorical variables with mode\n",
    "new_test_df['Garden'] = new_test_df['Garden'].fillna(new_test_df['Garden'].mode()[0])\n",
    "new_test_df['Geo_Code'] = new_test_df['Geo_Code'].fillna(new_test_df['Geo_Code'].mode()[0])"
   ]
  },
  {
   "cell_type": "code",
   "execution_count": 72,
   "id": "8b3e2b64",
   "metadata": {},
   "outputs": [],
   "source": [
    "#Label Encoding\n",
    "#Encoding of categorical variables We use Label Encoder\n",
    "new_test_df['Building_Painted'] = new_test_df['Building_Painted'].replace(['N','V'],[1,0])\n",
    "new_test_df['Building_Fenced'] = new_test_df['Building_Fenced'].replace(['N','V'],[1,0])\n",
    "new_test_df['Garden'] = new_test_df['Garden'].replace(['V','O'],[1,0])\n",
    "new_test_df['Settlement'] = new_test_df['Settlement'].replace(['R','U'],[0,1])\n",
    "new_test_df['Building_Type'] = new_test_df['Building_Type'].replace([1,2,3,4],[0,1,2,3])"
   ]
  },
  {
   "cell_type": "code",
   "execution_count": 73,
   "id": "400e8655",
   "metadata": {},
   "outputs": [],
   "source": [
    "#Drop the Alphanumeric characters in Geo-code\n",
    "new_test_df = new_test_df.drop(new_test_df[new_test_df.Geo_Code.str.contains(r'[A-Z]')].index)"
   ]
  },
  {
   "cell_type": "code",
   "execution_count": 74,
   "id": "f06267c3",
   "metadata": {},
   "outputs": [],
   "source": [
    "#Convert Geo-code into numeric\n",
    "new_test_df['Geo_Code'] = pd.to_numeric(new_test_df['Geo_Code'])"
   ]
  },
  {
   "cell_type": "code",
   "execution_count": 75,
   "id": "bccd3296",
   "metadata": {},
   "outputs": [
    {
     "name": "stdout",
     "output_type": "stream",
     "text": [
      "<class 'pandas.core.frame.DataFrame'>\n",
      "Int64Index: 2275 entries, 0 to 3068\n",
      "Data columns (total 13 columns):\n",
      " #   Column              Non-Null Count  Dtype  \n",
      "---  ------              --------------  -----  \n",
      " 0   Customer Id         2275 non-null   object \n",
      " 1   YearOfObservation   2275 non-null   int64  \n",
      " 2   Insured_Period      2275 non-null   float64\n",
      " 3   Residential         2275 non-null   int64  \n",
      " 4   Building_Painted    2275 non-null   int64  \n",
      " 5   Building_Fenced     2275 non-null   int64  \n",
      " 6   Garden              2275 non-null   int64  \n",
      " 7   Settlement          2275 non-null   int64  \n",
      " 8   Building Dimension  2275 non-null   float64\n",
      " 9   Building_Type       2275 non-null   int64  \n",
      " 10  Date_of_Occupancy   2275 non-null   float64\n",
      " 11  NumberOfWindows     2275 non-null   object \n",
      " 12  Geo_Code            2275 non-null   int64  \n",
      "dtypes: float64(3), int64(8), object(2)\n",
      "memory usage: 248.8+ KB\n"
     ]
    }
   ],
   "source": [
    "new_test_df.info()"
   ]
  },
  {
   "cell_type": "code",
   "execution_count": 76,
   "id": "2145cea0",
   "metadata": {},
   "outputs": [
    {
     "data": {
      "text/plain": [
       "Customer Id           0\n",
       "YearOfObservation     0\n",
       "Insured_Period        0\n",
       "Residential           0\n",
       "Building_Painted      0\n",
       "Building_Fenced       0\n",
       "Garden                0\n",
       "Settlement            0\n",
       "Building Dimension    0\n",
       "Building_Type         0\n",
       "Date_of_Occupancy     0\n",
       "NumberOfWindows       0\n",
       "Geo_Code              0\n",
       "dtype: int64"
      ]
     },
     "execution_count": 76,
     "metadata": {},
     "output_type": "execute_result"
    }
   ],
   "source": [
    "new_test_df.isnull().sum()"
   ]
  },
  {
   "cell_type": "code",
   "execution_count": 77,
   "id": "21734c5e",
   "metadata": {},
   "outputs": [],
   "source": [
    "data_to_predict = new_test_df.drop(columns=['Customer Id','NumberOfWindows'])"
   ]
  },
  {
   "cell_type": "code",
   "execution_count": 78,
   "id": "4b754dbc",
   "metadata": {
    "scrolled": true
   },
   "outputs": [
    {
     "name": "stdout",
     "output_type": "stream",
     "text": [
      "<class 'pandas.core.frame.DataFrame'>\n",
      "Int64Index: 2275 entries, 0 to 3068\n",
      "Data columns (total 11 columns):\n",
      " #   Column              Non-Null Count  Dtype  \n",
      "---  ------              --------------  -----  \n",
      " 0   YearOfObservation   2275 non-null   int64  \n",
      " 1   Insured_Period      2275 non-null   float64\n",
      " 2   Residential         2275 non-null   int64  \n",
      " 3   Building_Painted    2275 non-null   int64  \n",
      " 4   Building_Fenced     2275 non-null   int64  \n",
      " 5   Garden              2275 non-null   int64  \n",
      " 6   Settlement          2275 non-null   int64  \n",
      " 7   Building Dimension  2275 non-null   float64\n",
      " 8   Building_Type       2275 non-null   int64  \n",
      " 9   Date_of_Occupancy   2275 non-null   float64\n",
      " 10  Geo_Code            2275 non-null   int64  \n",
      "dtypes: float64(3), int64(8)\n",
      "memory usage: 213.3 KB\n"
     ]
    }
   ],
   "source": [
    "data_to_predict.info()"
   ]
  },
  {
   "cell_type": "markdown",
   "id": "99d03c6c",
   "metadata": {},
   "source": [
    "### Predicted_values"
   ]
  },
  {
   "cell_type": "code",
   "execution_count": 79,
   "id": "5056992c",
   "metadata": {},
   "outputs": [],
   "source": [
    "#Convert the test data into an array\n",
    "test_array = np.array(data_to_predict)"
   ]
  },
  {
   "cell_type": "code",
   "execution_count": 80,
   "id": "1d0de68f",
   "metadata": {},
   "outputs": [],
   "source": [
    "#Predicted Claim Status\n",
    "predicted_values = best_model.predict(test_array)"
   ]
  },
  {
   "cell_type": "code",
   "execution_count": 81,
   "id": "0a21c93d",
   "metadata": {},
   "outputs": [
    {
     "data": {
      "text/plain": [
       "array([0, 0, 0, ..., 0, 0, 0], dtype=int64)"
      ]
     },
     "execution_count": 81,
     "metadata": {},
     "output_type": "execute_result"
    }
   ],
   "source": [
    "predicted_values"
   ]
  },
  {
   "cell_type": "code",
   "execution_count": 82,
   "id": "e7cf8449",
   "metadata": {},
   "outputs": [],
   "source": [
    "#Convert the predicted values to an dataframe\n",
    "predicted_df = pd.DataFrame(predicted_values, columns=['Claim'])"
   ]
  },
  {
   "cell_type": "code",
   "execution_count": 83,
   "id": "5dcee71e",
   "metadata": {},
   "outputs": [
    {
     "data": {
      "text/plain": [
       "0    2061\n",
       "1     214\n",
       "Name: Claim, dtype: int64"
      ]
     },
     "execution_count": 83,
     "metadata": {},
     "output_type": "execute_result"
    }
   ],
   "source": [
    "#Get the count of the predicted values\n",
    "predicted_df['Claim'].value_counts()"
   ]
  },
  {
   "cell_type": "code",
   "execution_count": 84,
   "id": "0d12be1d",
   "metadata": {},
   "outputs": [],
   "source": [
    "#Creat a dataframe for the customer id\n",
    "col = ['Customer Id']\n",
    "customer_id_df = new_test_df[col]"
   ]
  },
  {
   "cell_type": "code",
   "execution_count": 85,
   "id": "3a2422dc",
   "metadata": {},
   "outputs": [],
   "source": [
    "predicted_df_final= pd.concat([customer_id_df,predicted_df], axis=1)"
   ]
  },
  {
   "cell_type": "code",
   "execution_count": 86,
   "id": "37d030fb",
   "metadata": {},
   "outputs": [
    {
     "data": {
      "text/html": [
       "<div>\n",
       "<style scoped>\n",
       "    .dataframe tbody tr th:only-of-type {\n",
       "        vertical-align: middle;\n",
       "    }\n",
       "\n",
       "    .dataframe tbody tr th {\n",
       "        vertical-align: top;\n",
       "    }\n",
       "\n",
       "    .dataframe thead th {\n",
       "        text-align: right;\n",
       "    }\n",
       "</style>\n",
       "<table border=\"1\" class=\"dataframe\">\n",
       "  <thead>\n",
       "    <tr style=\"text-align: right;\">\n",
       "      <th></th>\n",
       "      <th>Customer Id</th>\n",
       "      <th>Claim</th>\n",
       "    </tr>\n",
       "  </thead>\n",
       "  <tbody>\n",
       "    <tr>\n",
       "      <th>0</th>\n",
       "      <td>H11920</td>\n",
       "      <td>0.0</td>\n",
       "    </tr>\n",
       "    <tr>\n",
       "      <th>1</th>\n",
       "      <td>H11921</td>\n",
       "      <td>0.0</td>\n",
       "    </tr>\n",
       "    <tr>\n",
       "      <th>2</th>\n",
       "      <td>H9805</td>\n",
       "      <td>0.0</td>\n",
       "    </tr>\n",
       "    <tr>\n",
       "      <th>3</th>\n",
       "      <td>H7493</td>\n",
       "      <td>0.0</td>\n",
       "    </tr>\n",
       "    <tr>\n",
       "      <th>4</th>\n",
       "      <td>H7494</td>\n",
       "      <td>0.0</td>\n",
       "    </tr>\n",
       "  </tbody>\n",
       "</table>\n",
       "</div>"
      ],
      "text/plain": [
       "  Customer Id  Claim\n",
       "0      H11920    0.0\n",
       "1      H11921    0.0\n",
       "2       H9805    0.0\n",
       "3       H7493    0.0\n",
       "4       H7494    0.0"
      ]
     },
     "execution_count": 86,
     "metadata": {},
     "output_type": "execute_result"
    }
   ],
   "source": [
    "predicted_df_final.head(5)"
   ]
  },
  {
   "cell_type": "code",
   "execution_count": 87,
   "id": "b8c0af32",
   "metadata": {},
   "outputs": [],
   "source": [
    "#Export the dataframe of predicted values to a csv file\n",
    "predicted_df_final.to_csv(r'E:\\\\5_New_Job\\\\Insurance_Claim_prediction\\\\Insurance_Claim_predicted_File.csv', index=None, header=True)"
   ]
  },
  {
   "cell_type": "code",
   "execution_count": null,
   "id": "73ee2f7b",
   "metadata": {},
   "outputs": [],
   "source": []
  }
 ],
 "metadata": {
  "kernelspec": {
   "display_name": "Python 3 (ipykernel)",
   "language": "python",
   "name": "python3"
  },
  "language_info": {
   "codemirror_mode": {
    "name": "ipython",
    "version": 3
   },
   "file_extension": ".py",
   "mimetype": "text/x-python",
   "name": "python",
   "nbconvert_exporter": "python",
   "pygments_lexer": "ipython3",
   "version": "3.9.7"
  }
 },
 "nbformat": 4,
 "nbformat_minor": 5
}
